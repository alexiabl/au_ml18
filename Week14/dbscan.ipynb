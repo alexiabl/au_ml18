{
 "cells": [
  {
   "cell_type": "markdown",
   "metadata": {},
   "source": [
    "# COURSE EVALUATION\n",
    "Please fill out the course evaluation.\n",
    "\n",
    "# 1. DBSCAN\n",
    "The following code visualizes a simple data set for you:\n",
    "\n"
   ]
  },
  {
   "cell_type": "code",
   "execution_count": 4,
   "metadata": {},
   "outputs": [
    {
     "data": {
      "image/png": "[encoded data removed]",
      "text/plain": [
       "<Figure size 432x288 with 1 Axes>"
      ]
     },
     "metadata": {},
     "output_type": "display_data"
    }
   ],
   "source": [
    "%matplotlib inline \n",
    "import numpy as np\n",
    "import matplotlib.pyplot as plt\n",
    "\n",
    "data = np.array([[1,3],\n",
    "[2,3],\n",
    "[4,1],\n",
    "[4,4],\n",
    "[5,2],\n",
    "[5,5],\n",
    "[5,6],\n",
    "[6,1],\n",
    "[5,1],\n",
    "[6,3],\n",
    "[6,2],\n",
    "[5,3],\n",
    "[4,2],\n",
    "[4,5]])\n",
    "\n",
    "plt.plot(data[:,0], data[:,1], 'bo')\n",
    "plt.show()\n"
   ]
  },
  {
   "cell_type": "markdown",
   "metadata": {},
   "source": [
    "<b>Exercise 1: </b>What is the definition of `core-object` and epsilon neighbourhood $N_\\epsilon$?\n",
    "\n",
    "<b>Exercise 2: </b>Cluster the dataset using DBSCAN. \n",
    "\n",
    "<b>Exercise 3: </b>Compute core-objects and border-objects for each density-based cluster and list all noise objects. Use the Euclidean distance with $\\epsilon =1.5$ and  `MinPts`$ = 3$. "
   ]
  },
  {
   "cell_type": "code",
   "execution_count": null,
   "metadata": {
    "collapsed": true
   },
   "outputs": [],
   "source": [
    "####Your code here\n",
    "\n",
    "#### End code"
   ]
  }
 ],
 "metadata": {
  "kernelspec": {
   "display_name": "Python 3",
   "language": "python",
   "name": "python3"
  },
  "language_info": {
   "codemirror_mode": {
    "name": "ipython",
    "version": 3
   },
   "file_extension": ".py",
   "mimetype": "text/x-python",
   "name": "python",
   "nbconvert_exporter": "python",
   "pygments_lexer": "ipython3",
   "version": "3.6.1"
  }
 },
 "nbformat": 4,
 "nbformat_minor": 2
}
