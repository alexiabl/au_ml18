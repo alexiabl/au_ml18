{
 "cells": [
  {
   "cell_type": "code",
   "execution_count": 7,
   "metadata": {},
   "outputs": [],
   "source": [
    "import math  # Just ignore this :-)\n",
    "import numpy as np\n",
    "\n",
    "def log(x):\n",
    "    if x == 0:\n",
    "        return float('-inf')\n",
    "    return math.log(x)"
   ]
  },
  {
   "cell_type": "markdown",
   "metadata": {},
   "source": [
    "# ML - Week 11 - Practical Exercises"
   ]
  },
  {
   "cell_type": "markdown",
   "metadata": {},
   "source": [
    "In the exercise below, you will implement and experiment with various ways of training a HMM (i.e. deciding parameters from data), and you will see an example of how to apply a HMM for identifying coding regions (genes) in genetic matrial."
   ]
  },
  {
   "cell_type": "markdown",
   "metadata": {},
   "source": [
    "# 1 - Training"
   ]
  },
  {
   "cell_type": "markdown",
   "metadata": {},
   "source": [
    "You are given the same 7-state HMM and helper functions that you used last time:"
   ]
  },
  {
   "cell_type": "code",
   "execution_count": 8,
   "metadata": {},
   "outputs": [],
   "source": [
    "class hmm:\n",
    "    def __init__(self, init_probs, trans_probs, emission_probs):\n",
    "        self.init_probs = init_probs\n",
    "        self.trans_probs = trans_probs\n",
    "        self.emission_probs = emission_probs"
   ]
  },
  {
   "cell_type": "code",
   "execution_count": 9,
   "metadata": {},
   "outputs": [],
   "source": [
    "init_probs_7_state = [0.00, 0.00, 0.00, 1.00, 0.00, 0.00, 0.00]\n",
    "\n",
    "trans_probs_7_state = [\n",
    "    [0.00, 0.00, 0.90, 0.10, 0.00, 0.00, 0.00],\n",
    "    [1.00, 0.00, 0.00, 0.00, 0.00, 0.00, 0.00],\n",
    "    [0.00, 1.00, 0.00, 0.00, 0.00, 0.00, 0.00],\n",
    "    [0.00, 0.00, 0.05, 0.90, 0.05, 0.00, 0.00],\n",
    "    [0.00, 0.00, 0.00, 0.00, 0.00, 1.00, 0.00],\n",
    "    [0.00, 0.00, 0.00, 0.00, 0.00, 0.00, 1.00],\n",
    "    [0.00, 0.00, 0.00, 0.10, 0.90, 0.00, 0.00],\n",
    "]\n",
    "\n",
    "emission_probs_7_state = [\n",
    "    #   A     C     G     T\n",
    "    [0.30, 0.25, 0.25, 0.20],\n",
    "    [0.20, 0.35, 0.15, 0.30],\n",
    "    [0.40, 0.15, 0.20, 0.25],\n",
    "    [0.25, 0.25, 0.25, 0.25],\n",
    "    [0.20, 0.40, 0.30, 0.10],\n",
    "    [0.30, 0.20, 0.30, 0.20],\n",
    "    [0.15, 0.30, 0.20, 0.35],\n",
    "]\n",
    "\n",
    "hmm_7_state = hmm(init_probs_7_state, trans_probs_7_state, emission_probs_7_state)"
   ]
  },
  {
   "cell_type": "code",
   "execution_count": 247,
   "metadata": {},
   "outputs": [],
   "source": [
    "def translate_indices_to_observations(indices):\n",
    "    mapping = ['a', 'c', 'g', 't']\n",
    "    return ''.join(mapping[idx] for idx in indices)\n",
    "\n",
    "def translate_path_to_indices1(path):\n",
    "    return list(map(lambda x: int(x), path))\n",
    "\n",
    "def translate_path_to_indices(path):\n",
    "    #return list(map(lambda x: int(x), path))\n",
    "    sequence = list(path)\n",
    "    index=0\n",
    "    indices = []\n",
    "    for c,i in enumerate(path):\n",
    "        prev_index=index\n",
    "        if i=='N':\n",
    "            index = 3\n",
    "        elif i=='C':\n",
    "            if prev_index == 3:\n",
    "                index = 2\n",
    "            elif prev_index == 2:\n",
    "                index = 1\n",
    "            elif prev_index == 1:\n",
    "                index = 0\n",
    "            elif prev_index == 0:\n",
    "                index = 2\n",
    "        elif i=='R':\n",
    "            if prev_index == 3:\n",
    "                index = 4\n",
    "            elif prev_index == 4:\n",
    "                index = 5\n",
    "            elif prev_index == 5:\n",
    "                index = 6\n",
    "            elif prev_index == 6:\n",
    "                index = 4\n",
    "        indices.append(index)\n",
    "    assert len(indices) == len(sequence)\n",
    "    return indices\n",
    "\n",
    "def translate_indices_to_path(indices):\n",
    "    return ''.join([str(i) for i in indices])\n",
    "\n",
    "def translate_observations_to_indices(obs):\n",
    "    mapping = {'a': 0, 'c': 1, 'g': 2, 't': 3}\n",
    "    return [mapping[symbol.lower()] for symbol in obs]\n",
    "\n",
    "def validate_hmm1(model):\n",
    "    \"Validates the hmm model\"\n",
    "\n",
    "    validate = True\n",
    "    if not math.isclose(sum(model.init_probs),1):\n",
    "        validate = False\n",
    "    \n",
    "    for i in range(len(model.trans_probs)):\n",
    "        count = 0\n",
    "        for j in range(len(model.trans_probs)):\n",
    "            count += model.trans_probs[i][j]\n",
    "\n",
    "        if count == 1:\n",
    "            validate = True\n",
    "\n",
    "    for i in range(len(model.emission_probs)):\n",
    "        count = 0\n",
    "        for j in range(len(model.emission_probs[0])):\n",
    "            count += model.emission_probs[i][j]\n",
    "            if (model.emission_probs[i][j] < 0.0 or model.emission_probs[i][j] > 1.0):\n",
    "                validate = False\n",
    "\n",
    "        if count == 1:\n",
    "            validate & True\n",
    "\n",
    "    return validate\n",
    "\n",
    "def validate_hmm(model):\n",
    "    \"Validates the hmm model\"\n",
    "\n",
    "    validate_init = False\n",
    "    validate_trans = False\n",
    "    validate_emi = False\n",
    "    \n",
    "    if math.isclose(abs(sum(model.init_probs)),1.0,rel_tol=0.05):\n",
    "        print(sum(model.init_probs))\n",
    "        validate_init = True\n",
    "    \n",
    "    print(\"validate_init = \",validate_init)\n",
    "    \n",
    "    for i in range(len(model.trans_probs)):\n",
    "        if math.isclose(abs(sum(model.trans_probs[i])),1.0,rel_tol=0.05):\n",
    "            print(sum(model.trans_probs[i]))\n",
    "            validate_trans = True\n",
    "    \n",
    "    print(\"validate_trans = \",validate_trans)\n",
    "    \n",
    "    for i in range(len(model.emission_probs)):\n",
    "        print(sum(model.emission_probs[i]))\n",
    "        if math.isclose(abs(sum(model.emission_probs[i])),1.0,rel_tol=0.05):\n",
    "            print(sum(model.emission_probs[i]))\n",
    "            validate_emi = True\n",
    "    \n",
    "    print(\"validate_emi = \",validate_emi)\n",
    "    \n",
    "    validate = validate_init & validate_trans & validate_emi\n",
    "    \n",
    "    return validate"
   ]
  },
  {
   "cell_type": "markdown",
   "metadata": {},
   "source": [
    "## Training by counting"
   ]
  },
  {
   "cell_type": "markdown",
   "metadata": {},
   "source": [
    "Training a hidden Markov model is a matter of estimating the initial, transition and emission probabilities. If we are given training data, i.e. a sequence of observations, ${\\bf X}$, and a corresponding sequence of hidden states, ${\\bf Z}$, we can do \"training by counting\" by counting the number of observed the transitions and observations in the training dataand as explained in the lecture.\n",
    "\n",
    "Given ${\\bf X}$ and ${\\bf Z}$ we would like to count the number of transitions from one state to another, and the number of times that symbol $k$ was observed while being in state $i$.  That is, we want to construct a $K \\times K$ matrix such that entry $i, j$ is the number of times that a transition from state $i$ to state $j$ is observed in the training data, and a $K \\times D$ matrix where entry $i, k$ contains the number of times that symbol $k$ is observed in the training data while being in state $i$.\n",
    "\n",
    "Implement this as the below function:"
   ]
  },
  {
   "cell_type": "code",
   "execution_count": 346,
   "metadata": {},
   "outputs": [],
   "source": [
    "def count_transitions_and_emissions(K, D, x, z):\n",
    "    \"\"\"\n",
    "    Returns a Kx1, KxK matrix and a KxD matrix containing counts cf. above\n",
    "    \"\"\"    \n",
    "    print(\"Started counting transitions and emissions\")\n",
    "    trans_matrix = [ [ 0 for i in range(K) ] for j in range(K) ]\n",
    "    emi_matrix = [ [ 0 for i in range(D) ] for j in range(K) ]   \n",
    "    \n",
    "    occurrences_state = [0 for i in range(K)]\n",
    "    occurrences_x = [0 for i in range(D)]\n",
    "    print(\"Started counting transitions\")\n",
    "    for i in range(len(z)-1):\n",
    "        trans_matrix[z[i]][z[i+1]] += 1 \n",
    "        #occurrences_state[z[i]] += 1\n",
    "       \n",
    "    #for i in range(K):\n",
    "    #    for j in range(K):\n",
    "    #        trans_matrix[i][j] /= occurrences_state[j]\n",
    "        #Divide by number of occurences in state k\n",
    "        \n",
    "    print(\"Started counting emissions\")\n",
    "    size_z = len(z)\n",
    "    size_x = len(x)\n",
    "    \n",
    "    for i in range(size_x): #K\n",
    "        #for j in range(size_x): #D\n",
    "        emi_matrix[z[i]][x[i]] +=1\n",
    "            #occurrences_x[x[j]]+=1\n",
    "    \n",
    "    #for z_i,x_i in enumerate(zip(z,x)):\n",
    "    #    emi_matrix[z[z_i]][x[x_i]] += 1\n",
    "    #    occurrences_x[x[x_i]]+=1\n",
    "\n",
    "    #print(occurrences_x)\n",
    "    #for i in range(K):\n",
    "    #    for j in range(D):\n",
    "    #        emi_matrix[i][j] /= occurrences_x[j]\n",
    "                \n",
    "    return trans_matrix,emi_matrix"
   ]
  },
  {
   "cell_type": "code",
   "execution_count": 347,
   "metadata": {},
   "outputs": [],
   "source": [
    "x_long = 'TGAGTATCACTTAGGTCTATGTCTAGTCGTCTTTCGTAATGTTTGGTCTTGTCACCAGTTATCCTATGGCGCTCCGAGTCTGGTTCTCGAAATAAGCATCCCCGCCCAAGTCATGCACCCGTTTGTGTTCTTCGCCGACTTGAGCGACTTAATGAGGATGCCACTCGTCACCATCTTGAACATGCCACCAACGAGGTTGCCGCCGTCCATTATAACTACAACCTAGACAATTTTCGCTTTAGGTCCATTCACTAGGCCGAAATCCGCTGGAGTAAGCACAAAGCTCGTATAGGCAAAACCGACTCCATGAGTCTGCCTCCCGACCATTCCCATCAAAATACGCTATCAATACTAAAAAAATGACGGTTCAGCCTCACCCGGATGCTCGAGACAGCACACGGACATGATAGCGAACGTGACCAGTGTAGTGGCCCAGGGGAACCGCCGCGCCATTTTGTTCATGGCCCCGCTGCCGAATATTTCGATCCCAGCTAGAGTAATGACCTGTAGCTTAAACCCACTTTTGGCCCAAACTAGAGCAACAATCGGAATGGCTGAAGTGAATGCCGGCATGCCCTCAGCTCTAAGCGCCTCGATCGCAGTAATGACCGTCTTAACATTAGCTCTCAACGCTATGCAGTGGCTTTGGTGTCGCTTACTACCAGTTCCGAACGTCTCGGGGGTCTTGATGCAGCGCACCACGATGCCAAGCCACGCTGAATCGGGCAGCCAGCAGGATCGTTACAGTCGAGCCCACGGCAATGCGAGCCGTCACGTTGCCGAATATGCACTGCGGGACTACGGACGCAGGGCCGCCAACCATCTGGTTGACGATAGCCAAACACGGTCCAGAGGTGCCCCATCTCGGTTATTTGGATCGTAATTTTTGTGAAGAACACTGCAAACGCAAGTGGCTTTCCAGACTTTACGACTATGTGCCATCATTTAAGGCTACGACCCGGCTTTTAAGACCCCCACCACTAAATAGAGGTACATCTGA'\n",
    "z_long = '3333321021021021021021021021021021021021021021021021021021021021021021033333333334564564564564564564564564564564564564564564564564564564564564564564564564564564564564564564564564564564564564564564564564564564563210210210210210210210210210210210210210210210210210210210210210210210210210210210210210210210210210210210210210210210210210210210321021021021021021021021033334564564564564564564564564564564564564564564564564564564564564564564564564564564564564564564564564564564564564564564564564564564564564564564564564564564564564564564564564564564564564564564564564564564564564564564564564564564564564564564564564564564564564564564564564564564564564564564564564564564564564564564564564564564564564564564564564564564564563333333456456456456456456456456456456456456456456456456456456456456456456456456456456456456456456456456456456456456456456332102102102102102102102102102102102102102102102102102102102102102102102102102102102102102102102103210210210210210210210210210210210210210210210210210210210210210'\n",
    "x_short = 'GTTTCCCAGTGTATATCGAGGGATACTACGTGCATAGTAACATCGGCCAA'\n",
    "z_short = '33333333333321021021021021021021021021021021021021'"
   ]
  },
  {
   "cell_type": "markdown",
   "metadata": {},
   "source": [
    "Test your implementation of `count_transitions_and_emissions` on (prefixes) of `x_long` and `z_long` above in order to conclude that your implementation works as expected."
   ]
  },
  {
   "cell_type": "code",
   "execution_count": 348,
   "metadata": {},
   "outputs": [
    {
     "name": "stdout",
     "output_type": "stream",
     "text": [
      "Started counting transitions and emissions\n",
      "Started counting transitions\n",
      "Started counting emissions\n"
     ]
    },
    {
     "data": {
      "text/plain": [
       "([[0, 0, 121, 4, 0, 0, 0],\n",
       "  [126, 0, 0, 0, 0, 0, 0],\n",
       "  [0, 126, 0, 0, 0, 0, 0],\n",
       "  [0, 0, 5, 23, 3, 0, 0],\n",
       "  [0, 0, 0, 0, 0, 197, 0],\n",
       "  [0, 0, 0, 0, 0, 0, 197],\n",
       "  [0, 0, 0, 3, 194, 0, 0]],\n",
       " [[26, 39, 28, 33],\n",
       "  [26, 43, 16, 41],\n",
       "  [56, 15, 27, 28],\n",
       "  [5, 8, 7, 11],\n",
       "  [42, 69, 65, 21],\n",
       "  [68, 43, 55, 31],\n",
       "  [26, 69, 32, 70]])"
      ]
     },
     "execution_count": 348,
     "metadata": {},
     "output_type": "execute_result"
    }
   ],
   "source": [
    "# Your code here ...\n",
    "z_indices = translate_path_to_indices1(z_long)\n",
    "x_indices = translate_observations_to_indices(x_long)\n",
    "\n",
    "count_transitions_and_emissions(7,4,x_indices,z_indices)"
   ]
  },
  {
   "cell_type": "markdown",
   "metadata": {},
   "source": [
    "Use your implementation of `count_transitions_and_emissions` to implement a function `training_by_counting` that given the number of hidden states, $K$, the number of observables, $D$, a sequence of observations, ${\\bf X}$, and a corresponding sequence of hidden states, ${\\bf Z}$, returns a HMM (as an instance of `class hmm`), where the tranistion, emission, and initial probabilities are set cf. training by counting on ${\\bf X}$ and ${\\bf Z}$."
   ]
  },
  {
   "cell_type": "code",
   "execution_count": 351,
   "metadata": {},
   "outputs": [],
   "source": [
    "def training_by_counting(K, D, x, z):\n",
    "    \"\"\"\n",
    "    Returns a HMM trained on x and z cf. training-by-counting.\n",
    "    \"\"\"\n",
    "    z_indices = translate_path_to_indices1(z)\n",
    "    x_indices = translate_observations_to_indices(x)\n",
    "    \n",
    "    init_probs = [ 0 for i in range(K) ]\n",
    "    num_sequences = len(z_indices)/3\n",
    "    \n",
    "    for i in range(0,len(z_indices),3):\n",
    "        init_probs[z_indices[i]] += 1\n",
    "            \n",
    "    for j in range(K):\n",
    "        init_probs[j] = init_probs[j] / num_sequences\n",
    "    \n",
    "    trans, emi = count_transitions_and_emissions(K,D,x_indices,z_indices)\n",
    "    \n",
    "    #Calculate probabilities\n",
    "    occurrences_state = [0 for i in range(K)]\n",
    "    occurrences_x = [0 for i in range(D)]\n",
    "    for i in range(len(z_indices)):\n",
    "        occurrences_state[z_indices[i]] +=1\n",
    "    \n",
    "    for i in range(len(x_indices)):\n",
    "        occurrences_x[x_indices[i]] += 1\n",
    "    \n",
    "    for i in range(K):\n",
    "        for j in range(K):\n",
    "            trans[i][j] /= occurrences_state[j]\n",
    "    \n",
    "    for i in range(K):\n",
    "        for j in range(D):\n",
    "            emi[i][j] /= occurrences_x[j]\n",
    "    \n",
    "    my_hmm = hmm(init_probs,trans,emi)\n",
    "    return my_hmm"
   ]
  },
  {
   "cell_type": "markdown",
   "metadata": {},
   "source": [
    "Consinder a HMM trained on `x_long` and `z_long`:"
   ]
  },
  {
   "cell_type": "code",
   "execution_count": 352,
   "metadata": {},
   "outputs": [
    {
     "name": "stdout",
     "output_type": "stream",
     "text": [
      "Started counting transitions and emissions\n",
      "Started counting transitions\n",
      "Started counting emissions\n",
      "1.0020000000000002\n",
      "validate_init =  True\n",
      "1.0\n",
      "1.0\n",
      "1.0\n",
      "1.0\n",
      "validate_trans =  True\n",
      "0.5029459693960435\n",
      "0.4988006235300686\n",
      "0.5138873913591655\n",
      "0.12529564250416206\n",
      "0.7819038378337555\n",
      "0.794487348227192\n",
      "0.7826791871496127\n",
      "validate_emi =  False\n"
     ]
    },
    {
     "data": {
      "text/plain": [
       "False"
      ]
     },
     "execution_count": 352,
     "metadata": {},
     "output_type": "execute_result"
    }
   ],
   "source": [
    "hmm_7_state_tbc = training_by_counting(7, 4, x_long, z_long)\n",
    "validate_hmm(hmm_7_state_tbc)"
   ]
  },
  {
   "cell_type": "markdown",
   "metadata": {},
   "source": [
    "How does this HMM (i.e. its transistion, emission, and initial probabilities) compare to `hmm_7_state` as specified above?\n",
    "\n",
    "You can e.g. try to perform a Viterbi decoding of `x_long` using the two HMMs and investigate if the decodings differ:"
   ]
  },
  {
   "cell_type": "code",
   "execution_count": 358,
   "metadata": {},
   "outputs": [],
   "source": [
    "# Your implementation of Viterbi (log transformed) from last week\n",
    "def make_table(m, n):\n",
    "    \"\"\"Make a table with `m` rows and `n` columns filled with zeros.\"\"\"\n",
    "    return [[0] * n for _ in range(m)]\n",
    "\n",
    "def compute_w_log(model, x):\n",
    "    x = translate_observations_to_indices(x)\n",
    "    K = len(model.init_probs)\n",
    "    N = len(x)\n",
    "    \n",
    "    w = make_table(K, N)\n",
    "    \n",
    "    # Base case: fill out w[i][0] for i = 0..k-1\n",
    "    # ...\n",
    "    for k in range(K):\n",
    "        w[k][0] = log(model.init_probs[k]) + log(model.emission_probs[k][x[0]])\n",
    "\n",
    "    # Inductive case: fill out w[i][j] for i = 0..k, j = 0..n-1\n",
    "    # ...\n",
    "    for n in range(1,N):\n",
    "        for j in range(0,K):\n",
    "            for i in range(0,K):\n",
    "                ## take max\n",
    "                w[j][n] = max(w[j][n],log(model.trans_probs[x[n]][j])) + w[j][n-1]\n",
    "            \n",
    "        w[j][n] += log(model.emission_probs[j][x[n]])\n",
    "    return w\n",
    "    pass\n",
    "\n",
    "#from week10\n",
    "import numpy as np\n",
    "def backtrack(w):\n",
    "    N = len(w[0])\n",
    "    k = len(w[1])\n",
    "    \n",
    "    z = [None] * N\n",
    "    z[-1] = (argmax(w[i][-1]) for i in range(k))\n",
    "    np_trans = np.asarray(model.trans_probs)\n",
    "    np_emi = np.asarray(model.emission_probs)\n",
    "    np_w = np.asarray(w)\n",
    "    \n",
    "    for j in range(N-2,-1,-1):\n",
    "        z[j] = np.argmax(np_w[i][j] * np_trans[i[z[j+1]]] * np_emi[j+1][j+1] for i in range(k))\n",
    "    \n",
    "    return z\n",
    "\n",
    "def opt_path_prob_log(w):\n",
    "    return max(w[i][-1] for i in range(len(w)))\n",
    "    pass\n",
    "\n",
    "def backtrack_log(model,w):\n",
    "    #z[n] = arg max( log p(x[n+1] | z[n+1]) + ω^[k][n] + log p(z[n+1] | k ) )\n",
    "    #N = length of sequence\n",
    "    N = len(w[0])\n",
    "    print(N)\n",
    "    k = len(w[1])\n",
    "    print(k)\n",
    "    np_w = np.asarray(w)\n",
    "    \n",
    "    z = [None for i in range(N)]\n",
    "    z[N-1] = (np.argmax(np_w[i][N]) for i in range(k))\n",
    "    \n",
    "    np_trans = np.asarray(model.trans_probs)\n",
    "    np_emi = np.asarray(model.emission_probs)\n",
    "    \n",
    "    for j in range(N-1,0,-1):\n",
    "        #for i in range(k):\n",
    "            #z[j] = np.argmax(log(np_trans[j+1][j+1]) + np_w[i][j] + log(np_trans[z[j+1]][i]))\n",
    "        #z[j] = np.argmax(log(np_emi[j+1][j+1]) + np_w[i][j] + log(np_trans[j+1][k]))\n",
    "            #temp = \n",
    "        z[j] = np.argmax((log(model.emission_probs[j+1][z[j+1]]) + w[i][j] + log(model.trans_probs[z[j+1]][i]) for i in range(k)))\n",
    "        \n",
    "    return list(z)\n",
    "    "
   ]
  },
  {
   "cell_type": "code",
   "execution_count": 360,
   "metadata": {},
   "outputs": [
    {
     "name": "stdout",
     "output_type": "stream",
     "text": [
      "[3, 2, 0, 2, 3, 0, 3, 1, 0, 1, 3, 3, 0, 2, 2, 3, 1, 3, 0, 3, 2, 3, 1, 3, 0, 2, 3, 1, 2, 3, 1, 3, 3, 3, 1, 2, 3, 0, 0, 3, 2, 3, 3, 3, 2, 2, 3, 1, 3, 3, 2, 3, 1, 0, 1, 1, 0, 2, 3, 3, 0, 3, 1, 1, 3, 0, 3, 2, 2, 1, 2, 1, 3, 1, 1, 2, 0, 2, 3, 1, 3, 2, 2, 3, 3, 1, 3, 1, 2, 0, 0, 0, 3, 0, 0, 2, 1, 0, 3, 1, 1, 1, 1, 2, 1, 1, 1, 0, 0, 2, 3, 1, 0, 3, 2, 1, 0, 1, 1, 1, 2, 3, 3, 3, 2, 3, 2, 3, 3, 1, 3, 3, 1, 2, 1, 1, 2, 0, 1, 3, 3, 2, 0, 2, 1, 2, 0, 1, 3, 3, 0, 0, 3, 2, 0, 2, 2, 0, 3, 2, 1, 1, 0, 1, 3, 1, 2, 3, 1, 0, 1, 1, 0, 3, 1, 3, 3, 2, 0, 0, 1, 0, 3, 2, 1, 1, 0, 1, 1, 0, 0, 1, 2, 0, 2, 2, 3, 3, 2, 1, 1, 2, 1, 1, 2, 3, 1, 1, 0, 3, 3, 0, 3, 0, 0, 1, 3, 0, 1, 0, 0, 1, 1, 3, 0, 2, 0, 1, 0, 0, 3, 3, 3, 3, 1, 2, 1, 3, 3, 3, 0, 2, 2, 3, 1, 1, 0, 3, 3, 1, 0, 1, 3, 0, 2, 2, 1, 1, 2, 0, 0, 0, 3, 1, 1, 2, 1, 3, 2, 2, 0, 2, 3, 0, 0, 2, 1, 0, 1, 0, 0, 0, 2, 1, 3, 1, 2, 3, 0, 3, 0, 2, 2, 1, 0, 0, 0, 0, 1, 1, 2, 0, 1, 3, 1, 1, 0, 3, 2, 0, 2, 3, 1, 3, 2, 1, 1, 3, 1, 1, 1, 2, 0, 1, 1, 0, 3, 3, 1, 1, 1, 0, 3, 1, 0, 0, 0, 0, 3, 0, 1, 2, 1, 3, 0, 3, 1, 0, 0, 3, 0, 1, 3, 0, 0, 0, 0, 0, 0, 0, 3, 2, 0, 1, 2, 2, 3, 3, 1, 0, 2, 1, 1, 3, 1, 0, 1, 1, 1, 2, 2, 0, 3, 2, 1, 3, 1, 2, 0, 2, 0, 1, 0, 2, 1, 0, 1, 0, 1, 2, 2, 0, 1, 0, 3, 2, 0, 3, 0, 2, 1, 2, 0, 0, 1, 2, 3, 2, 0, 1, 1, 0, 2, 3, 2, 3, 0, 2, 3, 2, 2, 1, 1, 1, 0, 2, 2, 2, 2, 0, 0, 1, 1, 2, 1, 1, 2, 1, 2, 1, 1, 0, 3, 3, 3, 3, 2, 3, 3, 1, 0, 3, 2, 2, 1, 1, 1, 1, 2, 1, 3, 2, 1, 1, 2, 0, 0, 3, 0, 3, 3, 3, 1, 2, 0, 3, 1, 1, 1, 0, 2, 1, 3, 0, 2, 0, 2, 3, 0, 0, 3, 2, 0, 1, 1, 3, 2, 3, 0, 2, 1, 3, 3, 0, 0, 0, 1, 1, 1, 0, 1, 3, 3, 3, 3, 2, 2, 1, 1, 1, 0, 0, 0, 1, 3, 0, 2, 0, 2, 1, 0, 0, 1, 0, 0, 3, 1, 2, 2, 0, 0, 3, 2, 2, 1, 3, 2, 0, 0, 2, 3, 2, 0, 0, 3, 2, 1, 1, 2, 2, 1, 0, 3, 2, 1, 1, 1, 3, 1, 0, 2, 1, 3, 1, 3, 0, 0, 2, 1, 2, 1, 1, 3, 1, 2, 0, 3, 1, 2, 1, 0, 2, 3, 0, 0, 3, 2, 0, 1, 1, 2, 3, 1, 3, 3, 0, 0, 1, 0, 3, 3, 0, 2, 1, 3, 1, 3, 1, 0, 0, 1, 2, 1, 3, 0, 3, 2, 1, 0, 2, 3, 2, 2, 1, 3, 3, 3, 2, 2, 3, 2, 3, 1, 2, 1, 3, 3, 0, 1, 3, 0, 1, 1, 0, 2, 3, 3, 1, 1, 2, 0, 0, 1, 2, 3, 1, 3, 1, 2, 2, 2, 2, 2, 3, 1, 3, 3, 2, 0, 3, 2, 1, 0, 2, 1, 2, 1, 0, 1, 1, 0, 1, 2, 0, 3, 2, 1, 1, 0, 0, 2, 1, 1, 0, 1, 2, 1, 3, 2, 0, 0, 3, 1, 2, 2, 2, 1, 0, 2, 1, 1, 0, 2, 1, 0, 2, 2, 0, 3, 1, 2, 3, 3, 0, 1, 0, 2, 3, 1, 2, 0, 2, 1, 1, 1, 0, 1, 2, 2, 1, 0, 0, 3, 2, 1, 2, 0, 2, 1, 1, 2, 3, 1, 0, 1, 2, 3, 3, 2, 1, 1, 2, 0, 0, 3, 0, 3, 2, 1, 0, 1, 3, 2, 1, 2, 2, 2, 0, 1, 3, 0, 1, 2, 2, 0, 1, 2, 1, 0, 2, 2, 2, 1, 1, 2, 1, 1, 0, 0, 1, 1, 0, 3, 1, 3, 2, 2, 3, 3, 2, 0, 1, 2, 0, 3, 0, 2, 1, 1, 0, 0, 0, 1, 0, 1, 2, 2, 3, 1, 1, 0, 2, 0, 2, 2, 3, 2, 1, 1, 1, 1, 0, 3, 1, 3, 1, 2, 2, 3, 3, 0, 3, 3, 3, 2, 2, 0, 3, 1, 2, 3, 0, 0, 3, 3, 3, 3, 3, 2, 3, 2, 0, 0, 2, 0, 0, 1, 0, 1, 3, 2, 1, 0, 0, 0, 1, 2, 1, 0, 0, 2, 3, 2, 2, 1, 3, 3, 3, 1, 1, 0, 2, 0, 1, 3, 3, 3, 0, 1, 2, 0, 1, 3, 0, 3, 2, 3, 2, 1, 1, 0, 3, 1, 0, 3, 3, 3, 0, 0, 2, 2, 1, 3, 0, 1, 2, 0, 1, 1, 1, 2, 2, 1, 3, 3, 3, 3, 0, 0, 2, 0, 1, 1, 1, 1, 1, 0, 1, 1, 0, 1, 3, 0, 0, 0, 3, 0, 2, 0, 2, 2, 3, 0, 1, 0, 3, 1, 3, 2, 0]\n",
      "[[-inf, -inf, -inf, -inf, -inf, -inf, -inf, -inf, -inf, -inf, -inf, -inf, -inf, -inf, -inf, -inf, -inf, -inf, -inf, -inf, -inf, -inf, -inf, -inf, -inf, -inf, -inf, -inf, -inf, -inf, -inf, -inf, -inf, -inf, -inf, -inf, -inf, -inf, -inf, -inf, -inf, -inf, -inf, -inf, -inf, -inf, -inf, -inf, -inf, -inf, -inf, -inf, -inf, -inf, -inf, -inf, -inf, -inf, -inf, -inf, -inf, -inf, -inf, -inf, -inf, -inf, -inf, -inf, -inf, -inf, -inf, -inf, -inf, -inf, -inf, -inf, -inf, -inf, -inf, -inf, -inf, -inf, -inf, -inf, -inf, -inf, -inf, -inf, -inf, -inf, -inf, -inf, -inf, -inf, -inf, -inf, -inf, -inf, -inf, -inf, -inf, -inf, -inf, -inf, -inf, -inf, -inf, -inf, -inf, -inf, -inf, -inf, -inf, -inf, -inf, -inf, -inf, -inf, -inf, -inf, -inf, -inf, -inf, -inf, -inf, -inf, -inf, -inf, -inf, -inf, -inf, -inf, -inf, -inf, -inf, -inf, -inf, -inf, -inf, -inf, -inf, -inf, -inf, -inf, -inf, -inf, -inf, -inf, -inf, -inf, -inf, -inf, -inf, -inf, -inf, -inf, -inf, -inf, -inf, -inf, -inf, -inf, -inf, -inf, -inf, -inf, -inf, -inf, -inf, -inf, -inf, -inf, -inf, -inf, -inf, -inf, -inf, -inf, -inf, -inf, -inf, -inf, -inf, -inf, -inf, -inf, -inf, -inf, -inf, -inf, -inf, -inf, -inf, -inf, -inf, -inf, -inf, -inf, -inf, -inf, -inf, -inf, -inf, -inf, -inf, -inf, -inf, -inf, -inf, -inf, -inf, -inf, -inf, -inf, -inf, -inf, -inf, -inf, -inf, -inf, -inf, -inf, -inf, -inf, -inf, -inf, -inf, -inf, -inf, -inf, -inf, -inf, -inf, -inf, -inf, -inf, -inf, -inf, -inf, -inf, -inf, -inf, -inf, -inf, -inf, -inf, -inf, -inf, -inf, -inf, -inf, -inf, -inf, -inf, -inf, -inf, -inf, -inf, -inf, -inf, -inf, -inf, -inf, -inf, -inf, -inf, -inf, -inf, -inf, -inf, -inf, -inf, -inf, -inf, -inf, -inf, -inf, -inf, -inf, -inf, -inf, -inf, -inf, -inf, -inf, -inf, -inf, -inf, -inf, -inf, -inf, -inf, -inf, -inf, -inf, -inf, -inf, -inf, -inf, -inf, -inf, -inf, -inf, -inf, -inf, -inf, -inf, -inf, -inf, -inf, -inf, -inf, -inf, -inf, -inf, -inf, -inf, -inf, -inf, -inf, -inf, -inf, -inf, -inf, -inf, -inf, -inf, -inf, -inf, -inf, -inf, -inf, -inf, -inf, -inf, -inf, -inf, -inf, -inf, -inf, -inf, -inf, -inf, -inf, -inf, -inf, -inf, -inf, -inf, -inf, -inf, -inf, -inf, -inf, -inf, -inf, -inf, -inf, -inf, -inf, -inf, -inf, -inf, -inf, -inf, -inf, -inf, -inf, -inf, -inf, -inf, -inf, -inf, -inf, -inf, -inf, -inf, -inf, -inf, -inf, -inf, -inf, -inf, -inf, -inf, -inf, -inf, -inf, -inf, -inf, -inf, -inf, -inf, -inf, -inf, -inf, -inf, -inf, -inf, -inf, -inf, -inf, -inf, -inf, -inf, -inf, -inf, -inf, -inf, -inf, -inf, -inf, -inf, -inf, -inf, -inf, -inf, -inf, -inf, -inf, -inf, -inf, -inf, -inf, -inf, -inf, -inf, -inf, -inf, -inf, -inf, -inf, -inf, -inf, -inf, -inf, -inf, -inf, -inf, -inf, -inf, -inf, -inf, -inf, -inf, -inf, -inf, -inf, -inf, -inf, -inf, -inf, -inf, -inf, -inf, -inf, -inf, -inf, -inf, -inf, -inf, -inf, -inf, -inf, -inf, -inf, -inf, -inf, -inf, -inf, -inf, -inf, -inf, -inf, -inf, -inf, -inf, -inf, -inf, -inf, -inf, -inf, -inf, -inf, -inf, -inf, -inf, -inf, -inf, -inf, -inf, -inf, -inf, -inf, -inf, -inf, -inf, -inf, -inf, -inf, -inf, -inf, -inf, -inf, -inf, -inf, -inf, -inf, -inf, -inf, -inf, -inf, -inf, -inf, -inf, -inf, -inf, -inf, -inf, -inf, -inf, -inf, -inf, -inf, -inf, -inf, -inf, -inf, -inf, -inf, -inf, -inf, -inf, -inf, -inf, -inf, -inf, -inf, -inf, -inf, -inf, -inf, -inf, -inf, -inf, -inf, -inf, -inf, -inf, -inf, -inf, -inf, -inf, -inf, -inf, -inf, -inf, -inf, -inf, -inf, -inf, -inf, -inf, -inf, -inf, -inf, -inf, -inf, -inf, -inf, -inf, -inf, -inf, -inf, -inf, -inf, -inf, -inf, -inf, -inf, -inf, -inf, -inf, -inf, -inf, -inf, -inf, -inf, -inf, -inf, -inf, -inf, -inf, -inf, -inf, -inf, -inf, -inf, -inf, -inf, -inf, -inf, -inf, -inf, -inf, -inf, -inf, -inf, -inf, -inf, -inf, -inf, -inf, -inf, -inf, -inf, -inf, -inf, -inf, -inf, -inf, -inf, -inf, -inf, -inf, -inf, -inf, -inf, -inf, -inf, -inf, -inf, -inf, -inf, -inf, -inf, -inf, -inf, -inf, -inf, -inf, -inf, -inf, -inf, -inf, -inf, -inf, -inf, -inf, -inf, -inf, -inf, -inf, -inf, -inf, -inf, -inf, -inf, -inf, -inf, -inf, -inf, -inf, -inf, -inf, -inf, -inf, -inf, -inf, -inf, -inf, -inf, -inf, -inf, -inf, -inf, -inf, -inf, -inf, -inf, -inf, -inf, -inf, -inf, -inf, -inf, -inf, -inf, -inf, -inf, -inf, -inf, -inf, -inf, -inf, -inf, -inf, -inf, -inf, -inf, -inf, -inf, -inf, -inf, -inf, -inf, -inf, -inf, -inf, -inf, -inf, -inf, -inf, -inf, -inf, -inf, -inf, -inf, -inf, -inf, -inf, -inf, -inf, -inf, -inf, -inf, -inf, -inf, -inf, -inf, -inf, -inf, -inf, -inf, -inf, -inf, -inf, -inf, -inf, -inf, -inf, -inf, -inf, -inf, -inf, -inf, -inf, -inf, -inf, -inf, -inf, -inf, -inf, -inf, -inf, -inf, -inf, -inf, -inf, -inf, -inf, -inf, -inf, -inf, -inf, -inf, -inf, -inf, -inf, -inf, -inf, -inf, -inf, -inf, -inf, -inf, -inf, -inf, -inf, -inf, -inf, -inf, -inf, -inf, -inf, -inf, -inf, -inf, -inf, -inf, -inf, -inf, -inf, -inf, -inf, -inf, -inf, -inf, -inf, -inf, -inf, -inf, -inf, -inf, -inf, -inf, -inf, -inf, -inf, -inf, -inf, -inf, -inf, -inf, -inf, -inf, -inf, -inf, -inf, -inf, -inf, -inf, -inf, -inf, -inf, -inf, -inf, -inf, -inf, -inf, -inf, -inf, -inf, -inf, -inf, -inf, -inf, -inf, -inf, -inf, -inf, -inf, -inf, -inf, -inf, -inf, -inf, -inf, -inf, -inf, -inf, -inf, -inf, -inf, -inf, -inf, -inf, -inf, -inf, -inf, -inf, -inf, -inf, -inf, -inf, -inf, -inf, -inf, -inf, -inf, -inf, -inf, -inf, -inf, -inf, -inf, -inf, -inf, -inf, -inf, -inf, -inf, -inf, -inf, -inf, -inf, -inf, -inf, -inf, -inf, -inf, -inf, -inf, -inf, -inf, -inf, -inf, -inf, -inf, -inf, -inf, -inf, -inf, -inf, -inf, -inf, -inf, -inf, -inf, -inf, -inf, -inf, -inf, -inf, -inf, -inf, -inf, -inf, -inf, -inf, -inf, -inf, -inf, -inf, -inf, -inf, -inf, -inf, -inf, -inf, -inf, -inf, -inf, -inf, -inf, -inf, -inf, -inf, -inf, -inf, -inf, -inf, -inf, -inf, -inf, -inf, -inf, -inf, -inf, -inf, -inf, -inf, -inf, -inf, -inf, -inf, -inf, -inf, -inf, -inf, -inf, -inf, -inf, -inf, -inf, -inf, -inf, -inf, -inf, -inf, -inf, -inf, -inf, -inf, -inf, -inf, -inf, -inf, -inf, -inf, -inf, -inf, -inf, -inf, -inf, -inf, -inf, -inf, -inf, -inf, -inf, -inf, -inf, -inf, -inf, -inf, -inf, -inf, -inf, -inf], [-inf, -inf, -inf, -inf, -inf, -inf, -inf, -inf, -inf, -inf, -inf, -inf, -inf, -inf, -inf, -inf, -inf, -inf, -inf, -inf, -inf, -inf, -inf, -inf, -inf, -inf, -inf, -inf, -inf, -inf, -inf, -inf, -inf, -inf, -inf, -inf, -inf, -inf, -inf, -inf, -inf, -inf, -inf, -inf, -inf, -inf, -inf, -inf, -inf, -inf, -inf, -inf, -inf, -inf, -inf, -inf, -inf, -inf, -inf, -inf, -inf, -inf, -inf, -inf, -inf, -inf, -inf, -inf, -inf, -inf, -inf, -inf, -inf, -inf, -inf, -inf, -inf, -inf, -inf, -inf, -inf, -inf, -inf, -inf, -inf, -inf, -inf, -inf, -inf, -inf, -inf, -inf, -inf, -inf, -inf, -inf, -inf, -inf, -inf, -inf, -inf, -inf, -inf, -inf, -inf, -inf, -inf, -inf, -inf, -inf, -inf, -inf, -inf, -inf, -inf, -inf, -inf, -inf, -inf, -inf, -inf, -inf, -inf, -inf, -inf, -inf, -inf, -inf, -inf, -inf, -inf, -inf, -inf, -inf, -inf, -inf, -inf, -inf, -inf, -inf, -inf, -inf, -inf, -inf, -inf, -inf, -inf, -inf, -inf, -inf, -inf, -inf, -inf, -inf, -inf, -inf, -inf, -inf, -inf, -inf, -inf, -inf, -inf, -inf, -inf, -inf, -inf, -inf, -inf, -inf, -inf, -inf, -inf, -inf, -inf, -inf, -inf, -inf, -inf, -inf, -inf, -inf, -inf, -inf, -inf, -inf, -inf, -inf, -inf, -inf, -inf, -inf, -inf, -inf, -inf, -inf, -inf, -inf, -inf, -inf, -inf, -inf, -inf, -inf, -inf, -inf, -inf, -inf, -inf, -inf, -inf, -inf, -inf, -inf, -inf, -inf, -inf, -inf, -inf, -inf, -inf, -inf, -inf, -inf, -inf, -inf, -inf, -inf, -inf, -inf, -inf, -inf, -inf, -inf, -inf, -inf, -inf, -inf, -inf, -inf, -inf, -inf, -inf, -inf, -inf, -inf, -inf, -inf, -inf, -inf, -inf, -inf, -inf, -inf, -inf, -inf, -inf, -inf, -inf, -inf, -inf, -inf, -inf, -inf, -inf, -inf, -inf, -inf, -inf, -inf, -inf, -inf, -inf, -inf, -inf, -inf, -inf, -inf, -inf, -inf, -inf, -inf, -inf, -inf, -inf, -inf, -inf, -inf, -inf, -inf, -inf, -inf, -inf, -inf, -inf, -inf, -inf, -inf, -inf, -inf, -inf, -inf, -inf, -inf, -inf, -inf, -inf, -inf, -inf, -inf, -inf, -inf, -inf, -inf, -inf, -inf, -inf, -inf, -inf, -inf, -inf, -inf, -inf, -inf, -inf, -inf, -inf, -inf, -inf, -inf, -inf, -inf, -inf, -inf, -inf, -inf, -inf, -inf, -inf, -inf, -inf, -inf, -inf, -inf, -inf, -inf, -inf, -inf, -inf, -inf, -inf, -inf, -inf, -inf, -inf, -inf, -inf, -inf, -inf, -inf, -inf, -inf, -inf, -inf, -inf, -inf, -inf, -inf, -inf, -inf, -inf, -inf, -inf, -inf, -inf, -inf, -inf, -inf, -inf, -inf, -inf, -inf, -inf, -inf, -inf, -inf, -inf, -inf, -inf, -inf, -inf, -inf, -inf, -inf, -inf, -inf, -inf, -inf, -inf, -inf, -inf, -inf, -inf, -inf, -inf, -inf, -inf, -inf, -inf, -inf, -inf, -inf, -inf, -inf, -inf, -inf, -inf, -inf, -inf, -inf, -inf, -inf, -inf, -inf, -inf, -inf, -inf, -inf, -inf, -inf, -inf, -inf, -inf, -inf, -inf, -inf, -inf, -inf, -inf, -inf, -inf, -inf, -inf, -inf, -inf, -inf, -inf, -inf, -inf, -inf, -inf, -inf, -inf, -inf, -inf, -inf, -inf, -inf, -inf, -inf, -inf, -inf, -inf, -inf, -inf, -inf, -inf, -inf, -inf, -inf, -inf, -inf, -inf, -inf, -inf, -inf, -inf, -inf, -inf, -inf, -inf, -inf, -inf, -inf, -inf, -inf, -inf, -inf, -inf, -inf, -inf, -inf, -inf, -inf, -inf, -inf, -inf, -inf, -inf, -inf, -inf, -inf, -inf, -inf, -inf, -inf, -inf, -inf, -inf, -inf, -inf, -inf, -inf, -inf, -inf, -inf, -inf, -inf, -inf, -inf, -inf, -inf, -inf, -inf, -inf, -inf, -inf, -inf, -inf, -inf, -inf, -inf, -inf, -inf, -inf, -inf, -inf, -inf, -inf, -inf, -inf, -inf, -inf, -inf, -inf, -inf, -inf, -inf, -inf, -inf, -inf, -inf, -inf, -inf, -inf, -inf, -inf, -inf, -inf, -inf, -inf, -inf, -inf, -inf, -inf, -inf, -inf, -inf, -inf, -inf, -inf, -inf, -inf, -inf, -inf, -inf, -inf, -inf, -inf, -inf, -inf, -inf, -inf, -inf, -inf, -inf, -inf, -inf, -inf, -inf, -inf, -inf, -inf, -inf, -inf, -inf, -inf, -inf, -inf, -inf, -inf, -inf, -inf, -inf, -inf, -inf, -inf, -inf, -inf, -inf, -inf, -inf, -inf, -inf, -inf, -inf, -inf, -inf, -inf, -inf, -inf, -inf, -inf, -inf, -inf, -inf, -inf, -inf, -inf, -inf, -inf, -inf, -inf, -inf, -inf, -inf, -inf, -inf, -inf, -inf, -inf, -inf, -inf, -inf, -inf, -inf, -inf, -inf, -inf, -inf, -inf, -inf, -inf, -inf, -inf, -inf, -inf, -inf, -inf, -inf, -inf, -inf, -inf, -inf, -inf, -inf, -inf, -inf, -inf, -inf, -inf, -inf, -inf, -inf, -inf, -inf, -inf, -inf, -inf, -inf, -inf, -inf, -inf, -inf, -inf, -inf, -inf, -inf, -inf, -inf, -inf, -inf, -inf, -inf, -inf, -inf, -inf, -inf, -inf, -inf, -inf, -inf, -inf, -inf, -inf, -inf, -inf, -inf, -inf, -inf, -inf, -inf, -inf, -inf, -inf, -inf, -inf, -inf, -inf, -inf, -inf, -inf, -inf, -inf, -inf, -inf, -inf, -inf, -inf, -inf, -inf, -inf, -inf, -inf, -inf, -inf, -inf, -inf, -inf, -inf, -inf, -inf, -inf, -inf, -inf, -inf, -inf, -inf, -inf, -inf, -inf, -inf, -inf, -inf, -inf, -inf, -inf, -inf, -inf, -inf, -inf, -inf, -inf, -inf, -inf, -inf, -inf, -inf, -inf, -inf, -inf, -inf, -inf, -inf, -inf, -inf, -inf, -inf, -inf, -inf, -inf, -inf, -inf, -inf, -inf, -inf, -inf, -inf, -inf, -inf, -inf, -inf, -inf, -inf, -inf, -inf, -inf, -inf, -inf, -inf, -inf, -inf, -inf, -inf, -inf, -inf, -inf, -inf, -inf, -inf, -inf, -inf, -inf, -inf, -inf, -inf, -inf, -inf, -inf, -inf, -inf, -inf, -inf, -inf, -inf, -inf, -inf, -inf, -inf, -inf, -inf, -inf, -inf, -inf, -inf, -inf, -inf, -inf, -inf, -inf, -inf, -inf, -inf, -inf, -inf, -inf, -inf, -inf, -inf, -inf, -inf, -inf, -inf, -inf, -inf, -inf, -inf, -inf, -inf, -inf, -inf, -inf, -inf, -inf, -inf, -inf, -inf, -inf, -inf, -inf, -inf, -inf, -inf, -inf, -inf, -inf, -inf, -inf, -inf, -inf, -inf, -inf, -inf, -inf, -inf, -inf, -inf, -inf, -inf, -inf, -inf, -inf, -inf, -inf, -inf, -inf, -inf, -inf, -inf, -inf, -inf, -inf, -inf, -inf, -inf, -inf, -inf, -inf, -inf, -inf, -inf, -inf, -inf, -inf, -inf, -inf, -inf, -inf, -inf, -inf, -inf, -inf, -inf, -inf, -inf, -inf, -inf, -inf, -inf, -inf, -inf, -inf, -inf, -inf, -inf, -inf, -inf, -inf, -inf, -inf, -inf, -inf, -inf, -inf, -inf, -inf, -inf, -inf, -inf, -inf, -inf, -inf, -inf, -inf, -inf, -inf, -inf, -inf, -inf, -inf, -inf, -inf, -inf, -inf, -inf, -inf, -inf, -inf, -inf, -inf, -inf, -inf, -inf, -inf, -inf, -inf, -inf, -inf, -inf, -inf, -inf, -inf, -inf, -inf, -inf, -inf, -inf, -inf, -inf, -inf, -inf, -inf, -inf, -inf, -inf, -inf, -inf, -inf, -inf, -inf], [-inf, -inf, -inf, -inf, -inf, -inf, -inf, -inf, -inf, -inf, -inf, -inf, -inf, -inf, -inf, -inf, -inf, -inf, -inf, -inf, -inf, -inf, -inf, -inf, -inf, -inf, -inf, -inf, -inf, -inf, -inf, -inf, -inf, -inf, -inf, -inf, -inf, -inf, -inf, -inf, -inf, -inf, -inf, -inf, -inf, -inf, -inf, -inf, -inf, -inf, -inf, -inf, -inf, -inf, -inf, -inf, -inf, -inf, -inf, -inf, -inf, -inf, -inf, -inf, -inf, -inf, -inf, -inf, -inf, -inf, -inf, -inf, -inf, -inf, -inf, -inf, -inf, -inf, -inf, -inf, -inf, -inf, -inf, -inf, -inf, -inf, -inf, -inf, -inf, -inf, -inf, -inf, -inf, -inf, -inf, -inf, -inf, -inf, -inf, -inf, -inf, -inf, -inf, -inf, -inf, -inf, -inf, -inf, -inf, -inf, -inf, -inf, -inf, -inf, -inf, -inf, -inf, -inf, -inf, -inf, -inf, -inf, -inf, -inf, -inf, -inf, -inf, -inf, -inf, -inf, -inf, -inf, -inf, -inf, -inf, -inf, -inf, -inf, -inf, -inf, -inf, -inf, -inf, -inf, -inf, -inf, -inf, -inf, -inf, -inf, -inf, -inf, -inf, -inf, -inf, -inf, -inf, -inf, -inf, -inf, -inf, -inf, -inf, -inf, -inf, -inf, -inf, -inf, -inf, -inf, -inf, -inf, -inf, -inf, -inf, -inf, -inf, -inf, -inf, -inf, -inf, -inf, -inf, -inf, -inf, -inf, -inf, -inf, -inf, -inf, -inf, -inf, -inf, -inf, -inf, -inf, -inf, -inf, -inf, -inf, -inf, -inf, -inf, -inf, -inf, -inf, -inf, -inf, -inf, -inf, -inf, -inf, -inf, -inf, -inf, -inf, -inf, -inf, -inf, -inf, -inf, -inf, -inf, -inf, -inf, -inf, -inf, -inf, -inf, -inf, -inf, -inf, -inf, -inf, -inf, -inf, -inf, -inf, -inf, -inf, -inf, -inf, -inf, -inf, -inf, -inf, -inf, -inf, -inf, -inf, -inf, -inf, -inf, -inf, -inf, -inf, -inf, -inf, -inf, -inf, -inf, -inf, -inf, -inf, -inf, -inf, -inf, -inf, -inf, -inf, -inf, -inf, -inf, -inf, -inf, -inf, -inf, -inf, -inf, -inf, -inf, -inf, -inf, -inf, -inf, -inf, -inf, -inf, -inf, -inf, -inf, -inf, -inf, -inf, -inf, -inf, -inf, -inf, -inf, -inf, -inf, -inf, -inf, -inf, -inf, -inf, -inf, -inf, -inf, -inf, -inf, -inf, -inf, -inf, -inf, -inf, -inf, -inf, -inf, -inf, -inf, -inf, -inf, -inf, -inf, -inf, -inf, -inf, -inf, -inf, -inf, -inf, -inf, -inf, -inf, -inf, -inf, -inf, -inf, -inf, -inf, -inf, -inf, -inf, -inf, -inf, -inf, -inf, -inf, -inf, -inf, -inf, -inf, -inf, -inf, -inf, -inf, -inf, -inf, -inf, -inf, -inf, -inf, -inf, -inf, -inf, -inf, -inf, -inf, -inf, -inf, -inf, -inf, -inf, -inf, -inf, -inf, -inf, -inf, -inf, -inf, -inf, -inf, -inf, -inf, -inf, -inf, -inf, -inf, -inf, -inf, -inf, -inf, -inf, -inf, -inf, -inf, -inf, -inf, -inf, -inf, -inf, -inf, -inf, -inf, -inf, -inf, -inf, -inf, -inf, -inf, -inf, -inf, -inf, -inf, -inf, -inf, -inf, -inf, -inf, -inf, -inf, -inf, -inf, -inf, -inf, -inf, -inf, -inf, -inf, -inf, -inf, -inf, -inf, -inf, -inf, -inf, -inf, -inf, -inf, -inf, -inf, -inf, -inf, -inf, -inf, -inf, -inf, -inf, -inf, -inf, -inf, -inf, -inf, -inf, -inf, -inf, -inf, -inf, -inf, -inf, -inf, -inf, -inf, -inf, -inf, -inf, -inf, -inf, -inf, -inf, -inf, -inf, -inf, -inf, -inf, -inf, -inf, -inf, -inf, -inf, -inf, -inf, -inf, -inf, -inf, -inf, -inf, -inf, -inf, -inf, -inf, -inf, -inf, -inf, -inf, -inf, -inf, -inf, -inf, -inf, -inf, -inf, -inf, -inf, -inf, -inf, -inf, -inf, -inf, -inf, -inf, -inf, -inf, -inf, -inf, -inf, -inf, -inf, -inf, -inf, -inf, -inf, -inf, -inf, -inf, -inf, -inf, -inf, -inf, -inf, -inf, -inf, -inf, -inf, -inf, -inf, -inf, -inf, -inf, -inf, -inf, -inf, -inf, -inf, -inf, -inf, -inf, -inf, -inf, -inf, -inf, -inf, -inf, -inf, -inf, -inf, -inf, -inf, -inf, -inf, -inf, -inf, -inf, -inf, -inf, -inf, -inf, -inf, -inf, -inf, -inf, -inf, -inf, -inf, -inf, -inf, -inf, -inf, -inf, -inf, -inf, -inf, -inf, -inf, -inf, -inf, -inf, -inf, -inf, -inf, -inf, -inf, -inf, -inf, -inf, -inf, -inf, -inf, -inf, -inf, -inf, -inf, -inf, -inf, -inf, -inf, -inf, -inf, -inf, -inf, -inf, -inf, -inf, -inf, -inf, -inf, -inf, -inf, -inf, -inf, -inf, -inf, -inf, -inf, -inf, -inf, -inf, -inf, -inf, -inf, -inf, -inf, -inf, -inf, -inf, -inf, -inf, -inf, -inf, -inf, -inf, -inf, -inf, -inf, -inf, -inf, -inf, -inf, -inf, -inf, -inf, -inf, -inf, -inf, -inf, -inf, -inf, -inf, -inf, -inf, -inf, -inf, -inf, -inf, -inf, -inf, -inf, -inf, -inf, -inf, -inf, -inf, -inf, -inf, -inf, -inf, -inf, -inf, -inf, -inf, -inf, -inf, -inf, -inf, -inf, -inf, -inf, -inf, -inf, -inf, -inf, -inf, -inf, -inf, -inf, -inf, -inf, -inf, -inf, -inf, -inf, -inf, -inf, -inf, -inf, -inf, -inf, -inf, -inf, -inf, -inf, -inf, -inf, -inf, -inf, -inf, -inf, -inf, -inf, -inf, -inf, -inf, -inf, -inf, -inf, -inf, -inf, -inf, -inf, -inf, -inf, -inf, -inf, -inf, -inf, -inf, -inf, -inf, -inf, -inf, -inf, -inf, -inf, -inf, -inf, -inf, -inf, -inf, -inf, -inf, -inf, -inf, -inf, -inf, -inf, -inf, -inf, -inf, -inf, -inf, -inf, -inf, -inf, -inf, -inf, -inf, -inf, -inf, -inf, -inf, -inf, -inf, -inf, -inf, -inf, -inf, -inf, -inf, -inf, -inf, -inf, -inf, -inf, -inf, -inf, -inf, -inf, -inf, -inf, -inf, -inf, -inf, -inf, -inf, -inf, -inf, -inf, -inf, -inf, -inf, -inf, -inf, -inf, -inf, -inf, -inf, -inf, -inf, -inf, -inf, -inf, -inf, -inf, -inf, -inf, -inf, -inf, -inf, -inf, -inf, -inf, -inf, -inf, -inf, -inf, -inf, -inf, -inf, -inf, -inf, -inf, -inf, -inf, -inf, -inf, -inf, -inf, -inf, -inf, -inf, -inf, -inf, -inf, -inf, -inf, -inf, -inf, -inf, -inf, -inf, -inf, -inf, -inf, -inf, -inf, -inf, -inf, -inf, -inf, -inf, -inf, -inf, -inf, -inf, -inf, -inf, -inf, -inf, -inf, -inf, -inf, -inf, -inf, -inf, -inf, -inf, -inf, -inf, -inf, -inf, -inf, -inf, -inf, -inf, -inf, -inf, -inf, -inf, -inf, -inf, -inf, -inf, -inf, -inf, -inf, -inf, -inf, -inf, -inf, -inf, -inf, -inf, -inf, -inf, -inf, -inf, -inf, -inf, -inf, -inf, -inf, -inf, -inf, -inf, -inf, -inf, -inf, -inf, -inf, -inf, -inf, -inf, -inf, -inf, -inf, -inf, -inf, -inf, -inf, -inf, -inf, -inf, -inf, -inf, -inf, -inf, -inf, -inf, -inf, -inf, -inf, -inf, -inf, -inf, -inf, -inf, -inf, -inf, -inf, -inf, -inf, -inf, -inf, -inf, -inf, -inf, -inf, -inf, -inf, -inf, -inf, -inf, -inf, -inf, -inf, -inf, -inf, -inf, -inf, -inf, -inf, -inf, -inf, -inf, -inf, -inf, -inf, -inf, -inf, -inf, -inf, -inf, -inf, -inf, -inf, -inf, -inf, -inf, -inf, -inf, -inf, -inf, -inf, -inf, -inf, -inf, -inf, -inf, -inf], [-1.3862943611198906, -9.704060527839234, -12.006645620833279, -84.04651934583296, -84.15187986149078, -86.45446495448483, -86.55982547014266, -605.9187782909986, -608.2213633839926, -4257.549543687949, -4257.654904203607, -4257.760264719264, -4260.062849812259, -29820.439948685816, -208743.07964080072, -208743.18500131636, -1461202.2950092144, -1461202.40036973, -1461204.7029548232, -1461204.8083153388, -10228433.658207372, -10228433.763567887, -71599036.3449752, -71599036.45033573, -71599038.75292082, -501193271.2704457, -501193271.3758062, -3508352899.630644, -24558470297.414513, -24558470297.519875, -171909292082.6391, -171909292082.74445, -171909292082.8498, -171909292082.95514, -1203365044580.6858, -8423555312064.8, -8423555312064.905, -8423555312067.208, -8423555312069.511, -8423555312069.616, -58964887184487.31, -58964887184487.414, -58964887184487.516, -58964887184487.62, -412754210291413.3, -2889279472039893.5, -2889279472039893.5, -2.0224956304279256e+16, -2.0224956304279256e+16, -2.0224956304279256e+16, -1.4157469412995482e+17, -1.4157469412995482e+17, -9.910228589096837e+17, -9.910228589096837e+17, -6.937160012367786e+18, -4.85601200865745e+19, -4.85601200865745e+19, -3.3992084060602145e+20, -3.3992084060602145e+20, -3.3992084060602145e+20, -3.3992084060602145e+20, -3.3992084060602145e+20, -2.3794458842421506e+21, -1.6656121189695054e+22, -1.6656121189695054e+22, -1.6656121189695054e+22, -1.6656121189695054e+22, -1.1659284832786537e+23, -8.161499382950576e+23, -5.713049568065403e+24, -3.999134697645782e+25, -2.799394288352047e+26, -2.799394288352047e+26, -1.9595760018464334e+27, -1.3717032012925035e+28, -9.601922409047523e+28, -9.601922409047523e+28, -6.721345686333266e+29, -6.721345686333266e+29, -4.7049419804332866e+30, -4.7049419804332866e+30, -3.2934593863033013e+31, -2.305421570412311e+32, -2.305421570412311e+32, -2.305421570412311e+32, -1.613795099288618e+33, -1.613795099288618e+33, -1.1296565695020326e+34, -7.907595986514228e+34, -7.907595986514228e+34, -7.907595986514228e+34, -7.907595986514228e+34, -7.907595986514228e+34, -7.907595986514228e+34, -7.907595986514228e+34, -5.5353171905599604e+35, -3.874722033391972e+36, -3.874722033391972e+36, -3.874722033391972e+36, -2.71230542337438e+37, -1.898613796362066e+38, -1.329029657453446e+39, -9.303207602174122e+39, -6.512245321521886e+40, -4.558571725065321e+41, -3.191000207545725e+42, -2.2337001452820074e+43, -2.2337001452820074e+43, -2.2337001452820074e+43, -1.5635901016974053e+44, -1.5635901016974053e+44, -1.0945130711881836e+45, -1.0945130711881836e+45, -1.0945130711881836e+45, -7.661591498317284e+45, -5.3631140488221e+46, -5.3631140488221e+46, -3.75417983417547e+47, -2.6279258839228288e+48, -1.83954811874598e+49, -1.2876836831221858e+50, -1.2876836831221858e+50, -1.2876836831221858e+50, -1.2876836831221858e+50, -9.013785781855301e+50, -9.013785781855301e+50, -6.309650047298711e+51, -6.309650047298711e+51, -6.309650047298711e+51, -4.4167550331090974e+52, -4.4167550331090974e+52, -4.4167550331090974e+52, -3.091728523176368e+53, -2.164209966223458e+54, -1.5149469763564207e+55, -1.0604628834494946e+56, -7.423240184146461e+56, -7.423240184146461e+56, -5.1962681289025234e+57, -5.1962681289025234e+57, -5.1962681289025234e+57, -3.637387690231766e+58, -3.637387690231766e+58, -2.5461713831622366e+59, -1.7823199682135654e+60, -1.2476239777494958e+61, -1.2476239777494958e+61, -8.733367844246471e+61, -8.733367844246471e+61, -8.733367844246471e+61, -8.733367844246471e+61, -8.733367844246471e+61, -8.733367844246471e+61, -6.1133574909725305e+62, -6.1133574909725305e+62, -4.279350243680771e+63, -2.99554517057654e+64, -2.99554517057654e+64, -2.99554517057654e+64, -2.0968816194035779e+65, -1.4678171335825048e+66, -1.0274719935077532e+67, -1.0274719935077532e+67, -7.192303954554273e+67, -7.192303954554273e+67, -5.03461276818799e+68, -3.5242289377315926e+69, -3.5242289377315926e+69, -2.466960256412115e+70, -2.466960256412115e+70, -1.726872179488481e+71, -1.2088105256419365e+72, -1.2088105256419365e+72, -1.2088105256419365e+72, -8.461673679493557e+72, -8.461673679493557e+72, -8.461673679493557e+72, -5.92317157564549e+73, -5.92317157564549e+73, -5.92317157564549e+73, -4.1462201029518436e+74, -4.1462201029518436e+74, -4.1462201029518436e+74, -2.902354072066291e+75, -2.0316478504464033e+76, -1.4221534953124822e+77, -1.4221534953124822e+77, -9.955074467187377e+77, -6.968552127031165e+78, -6.968552127031165e+78, -6.968552127031165e+78, -4.8779864889218164e+79, -3.414590542245272e+80, -3.414590542245272e+80, -2.3902133795716906e+81, -1.6731493657001833e+82, -1.6731493657001833e+82, -1.6731493657001833e+82, -1.1712045559901285e+83, -8.1984318919309e+83, -5.738902324351631e+84, -4.0172316270461415e+85, -2.8120621389322995e+86, -1.9684434972526096e+87, -1.3779104480768267e+88, -1.3779104480768267e+88, -9.645373136537787e+88, -6.751761195576451e+89, -6.751761195576451e+89, -6.751761195576451e+89, -6.751761195576451e+89, -6.751761195576451e+89, -6.751761195576451e+89, -6.751761195576451e+89, -6.751761195576451e+89, -4.726232836903516e+90, -4.726232836903516e+90, -4.726232836903516e+90, -3.3083629858324604e+91, -3.3083629858324604e+91, -3.3083629858324604e+91, -2.315854090082722e+92, -1.6210978630579053e+93, -1.6210978630579053e+93, -1.6210978630579053e+93, -1.1347685041405338e+94, -1.1347685041405338e+94, -7.943379528983736e+94, -7.943379528983736e+94, -7.943379528983736e+94, -7.943379528983736e+94, -7.943379528983736e+94, -7.943379528983736e+94, -7.943379528983736e+94, -5.560365670288614e+95, -3.8922559692020302e+96, -2.724579178441421e+97, -2.724579178441421e+97, -2.724579178441421e+97, -2.724579178441421e+97, -2.724579178441421e+97, -1.9072054249089946e+98, -1.335043797436296e+99, -1.335043797436296e+99, -9.345306582054073e+99, -6.541714607437851e+100, -6.541714607437851e+100, -6.541714607437851e+100, -6.541714607437851e+100, -4.5792002252064946e+101, -4.5792002252064946e+101, -3.205440157644546e+102, -3.205440157644546e+102, -3.205440157644546e+102, -2.2438081103511823e+103, -1.5706656772458276e+104, -1.0994659740720792e+105, -7.696261818504555e+105, -5.387383272953189e+106, -5.387383272953189e+106, -5.387383272953189e+106, -5.387383272953189e+106, -5.387383272953189e+106, -3.771168291067232e+107, -2.6398178037470625e+108, -1.847872462622944e+109, -1.2935107238360608e+110, -1.2935107238360608e+110, -9.054575066852425e+110, -6.338202546796698e+111, -6.338202546796698e+111, -4.436741782757689e+112, -4.436741782757689e+112, -4.436741782757689e+112, -4.436741782757689e+112, -3.1057192479303825e+113, -2.1740034735512677e+114, -2.1740034735512677e+114, -1.5218024314858874e+115, -1.5218024314858874e+115, -1.5218024314858874e+115, -1.5218024314858874e+115, -1.0652617020401213e+116, -7.45683191428085e+116, -7.45683191428085e+116, -5.219782339996596e+117, -3.653847637997617e+118, -3.653847637997617e+118, -3.653847637997617e+118, -3.653847637997617e+118, -3.653847637997617e+118, -2.557693346598332e+119, -1.7903853426188322e+120, -1.2532697398331827e+121, -1.2532697398331827e+121, -1.2532697398331827e+121, -1.2532697398331827e+121, -1.2532697398331827e+121, -8.772888178832279e+121, -6.1410217251825956e+122, -4.298715207627816e+123, -4.298715207627816e+123, -3.009100645339471e+124, -3.009100645339471e+124, -2.10637045173763e+125, -1.4744593162163408e+126, -1.4744593162163408e+126, -1.4744593162163408e+126, -1.0321215213514386e+127, -1.0321215213514386e+127, -7.224850649460072e+127, -7.224850649460072e+127, -5.05739545462205e+128, -5.05739545462205e+128, -3.540176818235435e+129, -2.478123772764805e+130, -1.7346866409353638e+131, -1.7346866409353638e+131, -1.2142806486547545e+132, -8.499964540583281e+132, -5.949975178408297e+133, -4.164982624885807e+134, -4.164982624885807e+134, -2.9154878374200657e+135, -2.040841486194046e+136, -2.040841486194046e+136, -2.040841486194046e+136, -2.040841486194046e+136, -1.4285890403358322e+137, -1.0000123282350826e+138, -7.000086297645578e+138, -7.000086297645578e+138, -7.000086297645578e+138, -4.900060408351905e+139, -4.900060408351905e+139, -4.900060408351905e+139, -4.900060408351905e+139, -4.900060408351905e+139, -4.900060408351905e+139, -4.900060408351905e+139, -3.430042285846333e+140, -2.401029600092433e+141, -1.6807207200647032e+142, -1.6807207200647032e+142, -1.6807207200647032e+142, -1.6807207200647032e+142, -1.1765045040452924e+143, -1.1765045040452924e+143, -1.1765045040452924e+143, -1.1765045040452924e+143, -1.1765045040452924e+143, -8.235531528317048e+143, -8.235531528317048e+143, -8.235531528317048e+143, -8.235531528317048e+143, -8.235531528317048e+143, -8.235531528317048e+143, -8.235531528317048e+143, -8.235531528317048e+143, -8.235531528317048e+143, -8.235531528317048e+143, -5.7648720698219335e+144, -5.7648720698219335e+144, -4.0354104488753533e+145, -2.824787314212747e+146, -1.9773511199489232e+147, -1.9773511199489232e+147, -1.9773511199489232e+147, -1.384145783964246e+148, -1.384145783964246e+148, -9.689020487749721e+148, -6.7823143414248055e+149, -4.747620038997364e+150, -4.747620038997364e+150, -3.3233340272981547e+151, -3.3233340272981547e+151, -2.326333819108708e+152, -1.6284336733760956e+153, -1.139903571363267e+154, -7.979324999542869e+154, -5.585527499680009e+155, -5.585527499680009e+155, -5.585527499680009e+155, -3.909869249776006e+156, -2.7369084748432047e+157, -2.7369084748432047e+157, -1.9158359323902433e+158, -1.3410851526731702e+159, -1.3410851526731702e+159, -9.387596068712192e+159, -9.387596068712192e+159, -6.571317248098535e+160, -6.571317248098535e+160, -4.599922073668974e+161, -3.219945451568282e+162, -3.219945451568282e+162, -2.2539618160977976e+163, -2.2539618160977976e+163, -1.5777732712684585e+164, -1.1044412898879208e+165, -7.731089029215445e+165, -7.731089029215445e+165, -5.4117623204508114e+166, -5.4117623204508114e+166, -5.4117623204508114e+166, -3.788233624315567e+167, -3.788233624315567e+167, -3.788233624315567e+167, -3.788233624315567e+167, -2.6517635370208967e+168, -1.8562344759146274e+169, -1.2993641331402394e+170, -1.2993641331402394e+170, -1.2993641331402394e+170, -9.095548931981676e+170, -6.366884252387174e+171, -6.366884252387174e+171, -4.4568189766710216e+172, -4.4568189766710216e+172, -3.119773283669715e+173, -2.1838412985688003e+174, -2.1838412985688003e+174, -1.5286889089981605e+175, -1.5286889089981605e+175, -1.0700822362987124e+176, -1.0700822362987124e+176, -1.0700822362987124e+176, -7.490575654090985e+176, -7.490575654090985e+176, -5.243402957863689e+177, -3.670382070504582e+178, -2.5692674493532073e+179, -1.798487214547245e+180, -1.2589410501830716e+181, -1.2589410501830716e+181, -8.8125873512815e+181, -6.16881114589705e+182, -4.318167802127935e+183, -3.0227174614895545e+184, -3.0227174614895545e+184, -3.0227174614895545e+184, -2.1159022230426883e+185, -1.4811315561298817e+186, -1.0367920892909172e+187, -7.25754462503642e+187, -5.0802812375254926e+188, -3.5561968662678456e+189, -2.489337806387492e+190, -1.7425364644712447e+191, -1.2197755251298713e+192, -8.5384286759091e+192, -8.5384286759091e+192, -8.5384286759091e+192, -8.5384286759091e+192, -8.5384286759091e+192, -8.5384286759091e+192, -5.976900073136371e+193, -5.976900073136371e+193, -5.976900073136371e+193, -4.1838300511954596e+194, -4.1838300511954596e+194, -4.1838300511954596e+194, -2.9286810358368214e+195, -2.0500767250857753e+196, -1.4350537075600424e+197, -1.0045375952920295e+198, -7.031763167044208e+198, -4.922234216930946e+199, -3.445563951851663e+200, -2.411894766296164e+201, -2.411894766296164e+201, -1.6883263364073145e+202, -1.1818284354851203e+203, -8.272799048395842e+203, -5.790959333877089e+204, -5.790959333877089e+204, -5.790959333877089e+204, -5.790959333877089e+204, -5.790959333877089e+204, -5.790959333877089e+204, -5.790959333877089e+204, -5.790959333877089e+204, -4.053671533713962e+205, -2.8375700735997733e+206, -2.8375700735997733e+206, -2.8375700735997733e+206, -1.986299051519841e+207, -1.3904093360638886e+208, -9.732865352447219e+208, -9.732865352447219e+208, -6.813005746713053e+209, -4.769104022699137e+210, -4.769104022699137e+210, -4.769104022699137e+210, -3.338372815889396e+211, -3.338372815889396e+211, -2.336860971122577e+212, -2.336860971122577e+212, -2.336860971122577e+212, -2.336860971122577e+212, -2.336860971122577e+212, -1.635802679785804e+213, -1.635802679785804e+213, -1.1450618758500627e+214, -8.015433130950439e+214, -8.015433130950439e+214, -5.610803191665307e+215, -5.610803191665307e+215, -5.610803191665307e+215, -3.9275622341657145e+216, -2.749293563916e+217, -2.749293563916e+217, -2.749293563916e+217, -2.749293563916e+217, -2.749293563916e+217, -2.749293563916e+217, -1.9245054947412e+218, -1.34715384631884e+219, -9.43007692423188e+219, -9.43007692423188e+219, -6.601053846962317e+220, -6.601053846962317e+220, -6.601053846962317e+220, -6.601053846962317e+220, -6.601053846962317e+220, -4.6207376928736224e+221, -3.2345163850115354e+222, -2.2641614695080744e+223, -1.5849130286556524e+224, -1.1094391200589569e+225, -1.1094391200589569e+225, -1.1094391200589569e+225, -1.1094391200589569e+225, -7.766073840412699e+225, -7.766073840412699e+225, -7.766073840412699e+225, -5.436251688288889e+226, -5.436251688288889e+226, -3.805376181802222e+227, -2.663763327261556e+228, -2.663763327261556e+228, -2.663763327261556e+228, -1.8646343290830893e+229, -1.8646343290830893e+229, -1.8646343290830893e+229, -1.8646343290830893e+229, -1.3052440303581624e+230, -9.136708212507136e+230, -6.395695748754996e+231, -6.395695748754996e+231, -6.395695748754996e+231, -6.395695748754996e+231, -4.4769870241284975e+232, -3.1338909168899482e+233, -2.1937236418229638e+234, -2.1937236418229638e+234, -1.5356065492760745e+235, -1.5356065492760745e+235, -1.5356065492760745e+235, -1.0749245844932521e+236, -1.0749245844932521e+236, -7.524472091452764e+236, -7.524472091452764e+236, -7.524472091452764e+236, -7.524472091452764e+236, -5.267130464016935e+237, -3.686991324811854e+238, -2.580893927368298e+239, -1.806625749157809e+240, -1.2646380244104662e+241, -8.852466170873263e+241, -8.852466170873263e+241, -8.852466170873263e+241, -6.196726319611283e+242, -4.337708423727898e+243, -3.0363958966095287e+244, -2.12547712762667e+245, -2.12547712762667e+245, -1.487833989338669e+246, -1.487833989338669e+246, -1.0414837925370682e+247, -7.290386547759478e+247, -7.290386547759478e+247, -5.103270583431634e+248, -5.103270583431634e+248, -5.103270583431634e+248, -5.103270583431634e+248, -3.5722894084021444e+249, -2.500602585881501e+250, -1.7504218101170506e+251, -1.2252952670819353e+252, -8.577066869573547e+252, -8.577066869573547e+252, -6.003946808701483e+253, -4.2027627660910376e+254, -4.2027627660910376e+254, -4.2027627660910376e+254, -2.9419339362637263e+255, -2.0593537553846085e+256, -1.441547628769226e+257, -1.441547628769226e+257, -1.0090833401384582e+258, -1.0090833401384582e+258, -1.0090833401384582e+258, -1.0090833401384582e+258, -1.0090833401384582e+258, -7.063583380969206e+258, -7.063583380969206e+258, -4.9445083666784444e+259, -3.4611558566749114e+260, -2.422809099672438e+261, -2.422809099672438e+261, -1.695966369770707e+262, -1.695966369770707e+262, -1.695966369770707e+262, -1.695966369770707e+262, -1.695966369770707e+262, -1.1871764588394949e+263, -1.1871764588394949e+263, -1.1871764588394949e+263, -1.1871764588394949e+263, -1.1871764588394949e+263, -8.310235211876464e+263, -5.817164648313524e+264, -5.817164648313524e+264, -4.072015253819467e+265, -4.072015253819467e+265, -2.850410677673627e+266, -2.850410677673627e+266, -2.850410677673627e+266, -1.995287474371539e+267, -1.3967012320600771e+268, -9.776908624420539e+268, -9.776908624420539e+268, -9.776908624420539e+268, -9.776908624420539e+268, -6.843836037094378e+269, -4.7906852259660645e+270, -4.7906852259660645e+270, -3.353479658176245e+271, -3.353479658176245e+271, -2.3474357607233716e+272, -1.6432050325063601e+273, -1.150243522754452e+274, -1.150243522754452e+274, -1.150243522754452e+274, -1.150243522754452e+274, -8.051704659281163e+274, -5.636193261496813e+275, -5.636193261496813e+275, -3.945335283047769e+276, -3.945335283047769e+276, -2.7617346981334384e+277, -1.933214288693407e+278, -1.3532500020853847e+279, -1.3532500020853847e+279, -1.3532500020853847e+279, -1.3532500020853847e+279, -9.472750014597694e+279, -9.472750014597694e+279, -9.472750014597694e+279, -6.6309250102183855e+280, -4.64164750715287e+281, -4.64164750715287e+281, -3.249153255007009e+282, -3.249153255007009e+282, -3.249153255007009e+282, -2.2744072785049065e+283, -1.5920850949534344e+284, -1.1144595664674039e+285, -1.1144595664674039e+285, -1.1144595664674039e+285, -7.801216965271826e+285, -5.460851875690277e+286, -5.460851875690277e+286, -3.822596312983193e+287, -3.822596312983193e+287, -2.6758174190882356e+288, -1.873072193361765e+289, -1.3111505353532356e+290, -9.178053747472647e+290, -6.424637623230852e+291, -4.497246336261596e+292, -4.497246336261596e+292, -3.1480724353831175e+293, -3.1480724353831175e+293, -3.1480724353831175e+293, -2.2036507047681822e+294, -2.2036507047681822e+294, -2.2036507047681822e+294, -1.5425554933377274e+295, -1.079788845336409e+296, -1.079788845336409e+296, -7.558521917354864e+296, -5.290965342148404e+297, -3.7036757395038823e+298, -2.5925730176527173e+299, -2.5925730176527173e+299, -1.814801112356902e+300, -1.2703607786498315e+301, -1.2703607786498315e+301, -8.89252545054882e+301, -6.2247678153841744e+302, -6.2247678153841744e+302, -6.2247678153841744e+302, -4.3573374707689225e+303, -3.0501362295382455e+304, -2.135095360676772e+305, -2.135095360676772e+305, -2.135095360676772e+305, -1.4945667524737403e+306, -1.0461967267316182e+307, -7.323377087121327e+307, -7.323377087121327e+307, -inf, -inf, -inf, -inf, -inf, -inf, -inf, -inf, -inf, -inf, -inf, -inf, -inf, -inf, -inf, -inf, -inf, -inf, -inf, -inf, -inf, -inf, -inf, -inf, -inf, -inf, -inf, -inf, -inf, -inf, -inf, -inf, -inf, -inf, -inf, -inf, -inf, -inf, -inf, -inf, -inf, -inf, -inf, -inf, -inf, -inf, -inf, -inf, -inf, -inf, -inf, -inf, -inf, -inf, -inf, -inf, -inf, -inf, -inf, -inf, -inf, -inf, -inf, -inf, -inf, -inf, -inf, -inf, -inf, -inf, -inf, -inf, -inf, -inf, -inf, -inf, -inf, -inf, -inf, -inf, -inf, -inf, -inf, -inf, -inf, -inf, -inf, -inf, -inf, -inf, -inf, -inf, -inf, -inf, -inf, -inf, -inf, -inf, -inf, -inf, -inf, -inf, -inf, -inf, -inf, -inf, -inf, -inf, -inf, -inf, -inf, -inf, -inf, -inf, -inf, -inf, -inf, -inf, -inf, -inf, -inf, -inf, -inf, -inf, -inf, -inf, -inf, -inf, -inf, -inf, -inf, -inf, -inf, -inf, -inf, -inf, -inf, -inf, -inf, -inf, -inf, -inf, -inf, -inf, -inf, -inf, -inf, -inf, -inf, -inf, -inf, -inf, -inf, -inf, -inf, -inf, -inf, -inf, -inf, -inf, -inf, -inf, -inf, -inf, -inf, -inf, -inf, -inf, -inf, -inf, -inf, -inf, -inf, -inf, -inf, -inf, -inf, -inf, -inf, -inf, -inf, -inf, -inf, -inf, -inf, -inf, -inf, -inf, -inf, -inf, -inf, -inf, -inf, -inf, -inf, -inf, -inf, -inf, -inf, -inf, -inf, -inf, -inf, -inf, -inf, -inf, -inf, -inf, -inf, -inf, -inf, -inf, -inf, -inf, -inf, -inf, -inf, -inf, -inf, -inf, -inf, -inf, -inf, -inf, -inf, -inf, -inf, -inf, -inf, -inf, -inf, -inf, -inf, -inf, -inf, -inf, -inf, -inf, -inf, -inf, -inf, -inf, -inf, -inf, -inf, -inf, -inf, -inf, -inf, -inf, -inf, -inf, -inf, -inf, -inf, -inf, -inf, -inf, -inf, -inf, -inf, -inf, -inf, -inf, -inf, -inf, -inf, -inf, -inf, -inf, -inf, -inf, -inf, -inf, -inf, -inf, -inf, -inf, -inf, -inf, -inf, -inf, -inf, -inf, -inf, -inf], [-inf, -inf, -inf, -inf, -inf, -inf, -inf, -inf, -inf, -inf, -inf, -inf, -inf, -inf, -inf, -inf, -inf, -inf, -inf, -inf, -inf, -inf, -inf, -inf, -inf, -inf, -inf, -inf, -inf, -inf, -inf, -inf, -inf, -inf, -inf, -inf, -inf, -inf, -inf, -inf, -inf, -inf, -inf, -inf, -inf, -inf, -inf, -inf, -inf, -inf, -inf, -inf, -inf, -inf, -inf, -inf, -inf, -inf, -inf, -inf, -inf, -inf, -inf, -inf, -inf, -inf, -inf, -inf, -inf, -inf, -inf, -inf, -inf, -inf, -inf, -inf, -inf, -inf, -inf, -inf, -inf, -inf, -inf, -inf, -inf, -inf, -inf, -inf, -inf, -inf, -inf, -inf, -inf, -inf, -inf, -inf, -inf, -inf, -inf, -inf, -inf, -inf, -inf, -inf, -inf, -inf, -inf, -inf, -inf, -inf, -inf, -inf, -inf, -inf, -inf, -inf, -inf, -inf, -inf, -inf, -inf, -inf, -inf, -inf, -inf, -inf, -inf, -inf, -inf, -inf, -inf, -inf, -inf, -inf, -inf, -inf, -inf, -inf, -inf, -inf, -inf, -inf, -inf, -inf, -inf, -inf, -inf, -inf, -inf, -inf, -inf, -inf, -inf, -inf, -inf, -inf, -inf, -inf, -inf, -inf, -inf, -inf, -inf, -inf, -inf, -inf, -inf, -inf, -inf, -inf, -inf, -inf, -inf, -inf, -inf, -inf, -inf, -inf, -inf, -inf, -inf, -inf, -inf, -inf, -inf, -inf, -inf, -inf, -inf, -inf, -inf, -inf, -inf, -inf, -inf, -inf, -inf, -inf, -inf, -inf, -inf, -inf, -inf, -inf, -inf, -inf, -inf, -inf, -inf, -inf, -inf, -inf, -inf, -inf, -inf, -inf, -inf, -inf, -inf, -inf, -inf, -inf, -inf, -inf, -inf, -inf, -inf, -inf, -inf, -inf, -inf, -inf, -inf, -inf, -inf, -inf, -inf, -inf, -inf, -inf, -inf, -inf, -inf, -inf, -inf, -inf, -inf, -inf, -inf, -inf, -inf, -inf, -inf, -inf, -inf, -inf, -inf, -inf, -inf, -inf, -inf, -inf, -inf, -inf, -inf, -inf, -inf, -inf, -inf, -inf, -inf, -inf, -inf, -inf, -inf, -inf, -inf, -inf, -inf, -inf, -inf, -inf, -inf, -inf, -inf, -inf, -inf, -inf, -inf, -inf, -inf, -inf, -inf, -inf, -inf, -inf, -inf, -inf, -inf, -inf, -inf, -inf, -inf, -inf, -inf, -inf, -inf, -inf, -inf, -inf, -inf, -inf, -inf, -inf, -inf, -inf, -inf, -inf, -inf, -inf, -inf, -inf, -inf, -inf, -inf, -inf, -inf, -inf, -inf, -inf, -inf, -inf, -inf, -inf, -inf, -inf, -inf, -inf, -inf, -inf, -inf, -inf, -inf, -inf, -inf, -inf, -inf, -inf, -inf, -inf, -inf, -inf, -inf, -inf, -inf, -inf, -inf, -inf, -inf, -inf, -inf, -inf, -inf, -inf, -inf, -inf, -inf, -inf, -inf, -inf, -inf, -inf, -inf, -inf, -inf, -inf, -inf, -inf, -inf, -inf, -inf, -inf, -inf, -inf, -inf, -inf, -inf, -inf, -inf, -inf, -inf, -inf, -inf, -inf, -inf, -inf, -inf, -inf, -inf, -inf, -inf, -inf, -inf, -inf, -inf, -inf, -inf, -inf, -inf, -inf, -inf, -inf, -inf, -inf, -inf, -inf, -inf, -inf, -inf, -inf, -inf, -inf, -inf, -inf, -inf, -inf, -inf, -inf, -inf, -inf, -inf, -inf, -inf, -inf, -inf, -inf, -inf, -inf, -inf, -inf, -inf, -inf, -inf, -inf, -inf, -inf, -inf, -inf, -inf, -inf, -inf, -inf, -inf, -inf, -inf, -inf, -inf, -inf, -inf, -inf, -inf, -inf, -inf, -inf, -inf, -inf, -inf, -inf, -inf, -inf, -inf, -inf, -inf, -inf, -inf, -inf, -inf, -inf, -inf, -inf, -inf, -inf, -inf, -inf, -inf, -inf, -inf, -inf, -inf, -inf, -inf, -inf, -inf, -inf, -inf, -inf, -inf, -inf, -inf, -inf, -inf, -inf, -inf, -inf, -inf, -inf, -inf, -inf, -inf, -inf, -inf, -inf, -inf, -inf, -inf, -inf, -inf, -inf, -inf, -inf, -inf, -inf, -inf, -inf, -inf, -inf, -inf, -inf, -inf, -inf, -inf, -inf, -inf, -inf, -inf, -inf, -inf, -inf, -inf, -inf, -inf, -inf, -inf, -inf, -inf, -inf, -inf, -inf, -inf, -inf, -inf, -inf, -inf, -inf, -inf, -inf, -inf, -inf, -inf, -inf, -inf, -inf, -inf, -inf, -inf, -inf, -inf, -inf, -inf, -inf, -inf, -inf, -inf, -inf, -inf, -inf, -inf, -inf, -inf, -inf, -inf, -inf, -inf, -inf, -inf, -inf, -inf, -inf, -inf, -inf, -inf, -inf, -inf, -inf, -inf, -inf, -inf, -inf, -inf, -inf, -inf, -inf, -inf, -inf, -inf, -inf, -inf, -inf, -inf, -inf, -inf, -inf, -inf, -inf, -inf, -inf, -inf, -inf, -inf, -inf, -inf, -inf, -inf, -inf, -inf, -inf, -inf, -inf, -inf, -inf, -inf, -inf, -inf, -inf, -inf, -inf, -inf, -inf, -inf, -inf, -inf, -inf, -inf, -inf, -inf, -inf, -inf, -inf, -inf, -inf, -inf, -inf, -inf, -inf, -inf, -inf, -inf, -inf, -inf, -inf, -inf, -inf, -inf, -inf, -inf, -inf, -inf, -inf, -inf, -inf, -inf, -inf, -inf, -inf, -inf, -inf, -inf, -inf, -inf, -inf, -inf, -inf, -inf, -inf, -inf, -inf, -inf, -inf, -inf, -inf, -inf, -inf, -inf, -inf, -inf, -inf, -inf, -inf, -inf, -inf, -inf, -inf, -inf, -inf, -inf, -inf, -inf, -inf, -inf, -inf, -inf, -inf, -inf, -inf, -inf, -inf, -inf, -inf, -inf, -inf, -inf, -inf, -inf, -inf, -inf, -inf, -inf, -inf, -inf, -inf, -inf, -inf, -inf, -inf, -inf, -inf, -inf, -inf, -inf, -inf, -inf, -inf, -inf, -inf, -inf, -inf, -inf, -inf, -inf, -inf, -inf, -inf, -inf, -inf, -inf, -inf, -inf, -inf, -inf, -inf, -inf, -inf, -inf, -inf, -inf, -inf, -inf, -inf, -inf, -inf, -inf, -inf, -inf, -inf, -inf, -inf, -inf, -inf, -inf, -inf, -inf, -inf, -inf, -inf, -inf, -inf, -inf, -inf, -inf, -inf, -inf, -inf, -inf, -inf, -inf, -inf, -inf, -inf, -inf, -inf, -inf, -inf, -inf, -inf, -inf, -inf, -inf, -inf, -inf, -inf, -inf, -inf, -inf, -inf, -inf, -inf, -inf, -inf, -inf, -inf, -inf, -inf, -inf, -inf, -inf, -inf, -inf, -inf, -inf, -inf, -inf, -inf, -inf, -inf, -inf, -inf, -inf, -inf, -inf, -inf, -inf, -inf, -inf, -inf, -inf, -inf, -inf, -inf, -inf, -inf, -inf, -inf, -inf, -inf, -inf, -inf, -inf, -inf, -inf, -inf, -inf, -inf, -inf, -inf, -inf, -inf, -inf, -inf, -inf, -inf, -inf, -inf, -inf, -inf, -inf, -inf, -inf, -inf, -inf, -inf, -inf, -inf, -inf, -inf, -inf, -inf, -inf, -inf, -inf, -inf, -inf, -inf, -inf, -inf, -inf, -inf, -inf, -inf, -inf, -inf, -inf, -inf, -inf, -inf, -inf, -inf, -inf, -inf, -inf, -inf, -inf, -inf, -inf, -inf, -inf, -inf, -inf, -inf, -inf, -inf, -inf, -inf, -inf, -inf, -inf, -inf, -inf, -inf, -inf, -inf, -inf, -inf, -inf, -inf, -inf, -inf, -inf, -inf, -inf, -inf, -inf, -inf, -inf, -inf, -inf, -inf, -inf, -inf, -inf, -inf, -inf, -inf, -inf, -inf, -inf, -inf, -inf, -inf, -inf, -inf, -inf, -inf, -inf, -inf, -inf, -inf, -inf, -inf, -inf, -inf, -inf, -inf, -inf, -inf, -inf, -inf, -inf, -inf, -inf, -inf, -inf, -inf, -inf, -inf, -inf, -inf, -inf, -inf, -inf, -inf, -inf, -inf, -inf, -inf, -inf, -inf, -inf, -inf, -inf, -inf], [-inf, -inf, -inf, -inf, -inf, -inf, -inf, -inf, -inf, -inf, -inf, -inf, -inf, -inf, -inf, -inf, -inf, -inf, -inf, -inf, -inf, -inf, -inf, -inf, -inf, -inf, -inf, -inf, -inf, -inf, -inf, -inf, -inf, -inf, -inf, -inf, -inf, -inf, -inf, -inf, -inf, -inf, -inf, -inf, -inf, -inf, -inf, -inf, -inf, -inf, -inf, -inf, -inf, -inf, -inf, -inf, -inf, -inf, -inf, -inf, -inf, -inf, -inf, -inf, -inf, -inf, -inf, -inf, -inf, -inf, -inf, -inf, -inf, -inf, -inf, -inf, -inf, -inf, -inf, -inf, -inf, -inf, -inf, -inf, -inf, -inf, -inf, -inf, -inf, -inf, -inf, -inf, -inf, -inf, -inf, -inf, -inf, -inf, -inf, -inf, -inf, -inf, -inf, -inf, -inf, -inf, -inf, -inf, -inf, -inf, -inf, -inf, -inf, -inf, -inf, -inf, -inf, -inf, -inf, -inf, -inf, -inf, -inf, -inf, -inf, -inf, -inf, -inf, -inf, -inf, -inf, -inf, -inf, -inf, -inf, -inf, -inf, -inf, -inf, -inf, -inf, -inf, -inf, -inf, -inf, -inf, -inf, -inf, -inf, -inf, -inf, -inf, -inf, -inf, -inf, -inf, -inf, -inf, -inf, -inf, -inf, -inf, -inf, -inf, -inf, -inf, -inf, -inf, -inf, -inf, -inf, -inf, -inf, -inf, -inf, -inf, -inf, -inf, -inf, -inf, -inf, -inf, -inf, -inf, -inf, -inf, -inf, -inf, -inf, -inf, -inf, -inf, -inf, -inf, -inf, -inf, -inf, -inf, -inf, -inf, -inf, -inf, -inf, -inf, -inf, -inf, -inf, -inf, -inf, -inf, -inf, -inf, -inf, -inf, -inf, -inf, -inf, -inf, -inf, -inf, -inf, -inf, -inf, -inf, -inf, -inf, -inf, -inf, -inf, -inf, -inf, -inf, -inf, -inf, -inf, -inf, -inf, -inf, -inf, -inf, -inf, -inf, -inf, -inf, -inf, -inf, -inf, -inf, -inf, -inf, -inf, -inf, -inf, -inf, -inf, -inf, -inf, -inf, -inf, -inf, -inf, -inf, -inf, -inf, -inf, -inf, -inf, -inf, -inf, -inf, -inf, -inf, -inf, -inf, -inf, -inf, -inf, -inf, -inf, -inf, -inf, -inf, -inf, -inf, -inf, -inf, -inf, -inf, -inf, -inf, -inf, -inf, -inf, -inf, -inf, -inf, -inf, -inf, -inf, -inf, -inf, -inf, -inf, -inf, -inf, -inf, -inf, -inf, -inf, -inf, -inf, -inf, -inf, -inf, -inf, -inf, -inf, -inf, -inf, -inf, -inf, -inf, -inf, -inf, -inf, -inf, -inf, -inf, -inf, -inf, -inf, -inf, -inf, -inf, -inf, -inf, -inf, -inf, -inf, -inf, -inf, -inf, -inf, -inf, -inf, -inf, -inf, -inf, -inf, -inf, -inf, -inf, -inf, -inf, -inf, -inf, -inf, -inf, -inf, -inf, -inf, -inf, -inf, -inf, -inf, -inf, -inf, -inf, -inf, -inf, -inf, -inf, -inf, -inf, -inf, -inf, -inf, -inf, -inf, -inf, -inf, -inf, -inf, -inf, -inf, -inf, -inf, -inf, -inf, -inf, -inf, -inf, -inf, -inf, -inf, -inf, -inf, -inf, -inf, -inf, -inf, -inf, -inf, -inf, -inf, -inf, -inf, -inf, -inf, -inf, -inf, -inf, -inf, -inf, -inf, -inf, -inf, -inf, -inf, -inf, -inf, -inf, -inf, -inf, -inf, -inf, -inf, -inf, -inf, -inf, -inf, -inf, -inf, -inf, -inf, -inf, -inf, -inf, -inf, -inf, -inf, -inf, -inf, -inf, -inf, -inf, -inf, -inf, -inf, -inf, -inf, -inf, -inf, -inf, -inf, -inf, -inf, -inf, -inf, -inf, -inf, -inf, -inf, -inf, -inf, -inf, -inf, -inf, -inf, -inf, -inf, -inf, -inf, -inf, -inf, -inf, -inf, -inf, -inf, -inf, -inf, -inf, -inf, -inf, -inf, -inf, -inf, -inf, -inf, -inf, -inf, -inf, -inf, -inf, -inf, -inf, -inf, -inf, -inf, -inf, -inf, -inf, -inf, -inf, -inf, -inf, -inf, -inf, -inf, -inf, -inf, -inf, -inf, -inf, -inf, -inf, -inf, -inf, -inf, -inf, -inf, -inf, -inf, -inf, -inf, -inf, -inf, -inf, -inf, -inf, -inf, -inf, -inf, -inf, -inf, -inf, -inf, -inf, -inf, -inf, -inf, -inf, -inf, -inf, -inf, -inf, -inf, -inf, -inf, -inf, -inf, -inf, -inf, -inf, -inf, -inf, -inf, -inf, -inf, -inf, -inf, -inf, -inf, -inf, -inf, -inf, -inf, -inf, -inf, -inf, -inf, -inf, -inf, -inf, -inf, -inf, -inf, -inf, -inf, -inf, -inf, -inf, -inf, -inf, -inf, -inf, -inf, -inf, -inf, -inf, -inf, -inf, -inf, -inf, -inf, -inf, -inf, -inf, -inf, -inf, -inf, -inf, -inf, -inf, -inf, -inf, -inf, -inf, -inf, -inf, -inf, -inf, -inf, -inf, -inf, -inf, -inf, -inf, -inf, -inf, -inf, -inf, -inf, -inf, -inf, -inf, -inf, -inf, -inf, -inf, -inf, -inf, -inf, -inf, -inf, -inf, -inf, -inf, -inf, -inf, -inf, -inf, -inf, -inf, -inf, -inf, -inf, -inf, -inf, -inf, -inf, -inf, -inf, -inf, -inf, -inf, -inf, -inf, -inf, -inf, -inf, -inf, -inf, -inf, -inf, -inf, -inf, -inf, -inf, -inf, -inf, -inf, -inf, -inf, -inf, -inf, -inf, -inf, -inf, -inf, -inf, -inf, -inf, -inf, -inf, -inf, -inf, -inf, -inf, -inf, -inf, -inf, -inf, -inf, -inf, -inf, -inf, -inf, -inf, -inf, -inf, -inf, -inf, -inf, -inf, -inf, -inf, -inf, -inf, -inf, -inf, -inf, -inf, -inf, -inf, -inf, -inf, -inf, -inf, -inf, -inf, -inf, -inf, -inf, -inf, -inf, -inf, -inf, -inf, -inf, -inf, -inf, -inf, -inf, -inf, -inf, -inf, -inf, -inf, -inf, -inf, -inf, -inf, -inf, -inf, -inf, -inf, -inf, -inf, -inf, -inf, -inf, -inf, -inf, -inf, -inf, -inf, -inf, -inf, -inf, -inf, -inf, -inf, -inf, -inf, -inf, -inf, -inf, -inf, -inf, -inf, -inf, -inf, -inf, -inf, -inf, -inf, -inf, -inf, -inf, -inf, -inf, -inf, -inf, -inf, -inf, -inf, -inf, -inf, -inf, -inf, -inf, -inf, -inf, -inf, -inf, -inf, -inf, -inf, -inf, -inf, -inf, -inf, -inf, -inf, -inf, -inf, -inf, -inf, -inf, -inf, -inf, -inf, -inf, -inf, -inf, -inf, -inf, -inf, -inf, -inf, -inf, -inf, -inf, -inf, -inf, -inf, -inf, -inf, -inf, -inf, -inf, -inf, -inf, -inf, -inf, -inf, -inf, -inf, -inf, -inf, -inf, -inf, -inf, -inf, -inf, -inf, -inf, -inf, -inf, -inf, -inf, -inf, -inf, -inf, -inf, -inf, -inf, -inf, -inf, -inf, -inf, -inf, -inf, -inf, -inf, -inf, -inf, -inf, -inf, -inf, -inf, -inf, -inf, -inf, -inf, -inf, -inf, -inf, -inf, -inf, -inf, -inf, -inf, -inf, -inf, -inf, -inf, -inf, -inf, -inf, -inf, -inf, -inf, -inf, -inf, -inf, -inf, -inf, -inf, -inf, -inf, -inf, -inf, -inf, -inf, -inf, -inf, -inf, -inf, -inf, -inf, -inf, -inf, -inf, -inf, -inf, -inf, -inf, -inf, -inf, -inf, -inf, -inf, -inf, -inf, -inf, -inf, -inf, -inf, -inf, -inf, -inf, -inf, -inf, -inf, -inf, -inf, -inf, -inf, -inf, -inf, -inf, -inf, -inf, -inf, -inf, -inf, -inf, -inf, -inf, -inf, -inf, -inf, -inf, -inf, -inf, -inf, -inf, -inf, -inf, -inf, -inf, -inf, -inf, -inf, -inf, -inf, -inf, -inf, -inf, -inf, -inf, -inf, -inf, -inf, -inf, -inf, -inf, -inf, -inf, -inf, -inf, -inf, -inf, -inf, -inf, -inf, -inf, -inf, -inf, -inf, -inf, -inf, -inf, -inf, -inf, -inf, -inf, -inf], [-inf, -inf, -inf, -inf, -inf, -inf, -inf, -inf, -inf, -inf, -inf, -inf, -inf, -inf, -inf, -inf, -inf, -inf, -inf, -inf, -inf, -inf, -inf, -inf, -inf, -inf, -inf, -inf, -inf, -inf, -inf, -inf, -inf, -inf, -inf, -inf, -inf, -inf, -inf, -inf, -inf, -inf, -inf, -inf, -inf, -inf, -inf, -inf, -inf, -inf, -inf, -inf, -inf, -inf, -inf, -inf, -inf, -inf, -inf, -inf, -inf, -inf, -inf, -inf, -inf, -inf, -inf, -inf, -inf, -inf, -inf, -inf, -inf, -inf, -inf, -inf, -inf, -inf, -inf, -inf, -inf, -inf, -inf, -inf, -inf, -inf, -inf, -inf, -inf, -inf, -inf, -inf, -inf, -inf, -inf, -inf, -inf, -inf, -inf, -inf, -inf, -inf, -inf, -inf, -inf, -inf, -inf, -inf, -inf, -inf, -inf, -inf, -inf, -inf, -inf, -inf, -inf, -inf, -inf, -inf, -inf, -inf, -inf, -inf, -inf, -inf, -inf, -inf, -inf, -inf, -inf, -inf, -inf, -inf, -inf, -inf, -inf, -inf, -inf, -inf, -inf, -inf, -inf, -inf, -inf, -inf, -inf, -inf, -inf, -inf, -inf, -inf, -inf, -inf, -inf, -inf, -inf, -inf, -inf, -inf, -inf, -inf, -inf, -inf, -inf, -inf, -inf, -inf, -inf, -inf, -inf, -inf, -inf, -inf, -inf, -inf, -inf, -inf, -inf, -inf, -inf, -inf, -inf, -inf, -inf, -inf, -inf, -inf, -inf, -inf, -inf, -inf, -inf, -inf, -inf, -inf, -inf, -inf, -inf, -inf, -inf, -inf, -inf, -inf, -inf, -inf, -inf, -inf, -inf, -inf, -inf, -inf, -inf, -inf, -inf, -inf, -inf, -inf, -inf, -inf, -inf, -inf, -inf, -inf, -inf, -inf, -inf, -inf, -inf, -inf, -inf, -inf, -inf, -inf, -inf, -inf, -inf, -inf, -inf, -inf, -inf, -inf, -inf, -inf, -inf, -inf, -inf, -inf, -inf, -inf, -inf, -inf, -inf, -inf, -inf, -inf, -inf, -inf, -inf, -inf, -inf, -inf, -inf, -inf, -inf, -inf, -inf, -inf, -inf, -inf, -inf, -inf, -inf, -inf, -inf, -inf, -inf, -inf, -inf, -inf, -inf, -inf, -inf, -inf, -inf, -inf, -inf, -inf, -inf, -inf, -inf, -inf, -inf, -inf, -inf, -inf, -inf, -inf, -inf, -inf, -inf, -inf, -inf, -inf, -inf, -inf, -inf, -inf, -inf, -inf, -inf, -inf, -inf, -inf, -inf, -inf, -inf, -inf, -inf, -inf, -inf, -inf, -inf, -inf, -inf, -inf, -inf, -inf, -inf, -inf, -inf, -inf, -inf, -inf, -inf, -inf, -inf, -inf, -inf, -inf, -inf, -inf, -inf, -inf, -inf, -inf, -inf, -inf, -inf, -inf, -inf, -inf, -inf, -inf, -inf, -inf, -inf, -inf, -inf, -inf, -inf, -inf, -inf, -inf, -inf, -inf, -inf, -inf, -inf, -inf, -inf, -inf, -inf, -inf, -inf, -inf, -inf, -inf, -inf, -inf, -inf, -inf, -inf, -inf, -inf, -inf, -inf, -inf, -inf, -inf, -inf, -inf, -inf, -inf, -inf, -inf, -inf, -inf, -inf, -inf, -inf, -inf, -inf, -inf, -inf, -inf, -inf, -inf, -inf, -inf, -inf, -inf, -inf, -inf, -inf, -inf, -inf, -inf, -inf, -inf, -inf, -inf, -inf, -inf, -inf, -inf, -inf, -inf, -inf, -inf, -inf, -inf, -inf, -inf, -inf, -inf, -inf, -inf, -inf, -inf, -inf, -inf, -inf, -inf, -inf, -inf, -inf, -inf, -inf, -inf, -inf, -inf, -inf, -inf, -inf, -inf, -inf, -inf, -inf, -inf, -inf, -inf, -inf, -inf, -inf, -inf, -inf, -inf, -inf, -inf, -inf, -inf, -inf, -inf, -inf, -inf, -inf, -inf, -inf, -inf, -inf, -inf, -inf, -inf, -inf, -inf, -inf, -inf, -inf, -inf, -inf, -inf, -inf, -inf, -inf, -inf, -inf, -inf, -inf, -inf, -inf, -inf, -inf, -inf, -inf, -inf, -inf, -inf, -inf, -inf, -inf, -inf, -inf, -inf, -inf, -inf, -inf, -inf, -inf, -inf, -inf, -inf, -inf, -inf, -inf, -inf, -inf, -inf, -inf, -inf, -inf, -inf, -inf, -inf, -inf, -inf, -inf, -inf, -inf, -inf, -inf, -inf, -inf, -inf, -inf, -inf, -inf, -inf, -inf, -inf, -inf, -inf, -inf, -inf, -inf, -inf, -inf, -inf, -inf, -inf, -inf, -inf, -inf, -inf, -inf, -inf, -inf, -inf, -inf, -inf, -inf, -inf, -inf, -inf, -inf, -inf, -inf, -inf, -inf, -inf, -inf, -inf, -inf, -inf, -inf, -inf, -inf, -inf, -inf, -inf, -inf, -inf, -inf, -inf, -inf, -inf, -inf, -inf, -inf, -inf, -inf, -inf, -inf, -inf, -inf, -inf, -inf, -inf, -inf, -inf, -inf, -inf, -inf, -inf, -inf, -inf, -inf, -inf, -inf, -inf, -inf, -inf, -inf, -inf, -inf, -inf, -inf, -inf, -inf, -inf, -inf, -inf, -inf, -inf, -inf, -inf, -inf, -inf, -inf, -inf, -inf, -inf, -inf, -inf, -inf, -inf, -inf, -inf, -inf, -inf, -inf, -inf, -inf, -inf, -inf, -inf, -inf, -inf, -inf, -inf, -inf, -inf, -inf, -inf, -inf, -inf, -inf, -inf, -inf, -inf, -inf, -inf, -inf, -inf, -inf, -inf, -inf, -inf, -inf, -inf, -inf, -inf, -inf, -inf, -inf, -inf, -inf, -inf, -inf, -inf, -inf, -inf, -inf, -inf, -inf, -inf, -inf, -inf, -inf, -inf, -inf, -inf, -inf, -inf, -inf, -inf, -inf, -inf, -inf, -inf, -inf, -inf, -inf, -inf, -inf, -inf, -inf, -inf, -inf, -inf, -inf, -inf, -inf, -inf, -inf, -inf, -inf, -inf, -inf, -inf, -inf, -inf, -inf, -inf, -inf, -inf, -inf, -inf, -inf, -inf, -inf, -inf, -inf, -inf, -inf, -inf, -inf, -inf, -inf, -inf, -inf, -inf, -inf, -inf, -inf, -inf, -inf, -inf, -inf, -inf, -inf, -inf, -inf, -inf, -inf, -inf, -inf, -inf, -inf, -inf, -inf, -inf, -inf, -inf, -inf, -inf, -inf, -inf, -inf, -inf, -inf, -inf, -inf, -inf, -inf, -inf, -inf, -inf, -inf, -inf, -inf, -inf, -inf, -inf, -inf, -inf, -inf, -inf, -inf, -inf, -inf, -inf, -inf, -inf, -inf, -inf, -inf, -inf, -inf, -inf, -inf, -inf, -inf, -inf, -inf, -inf, -inf, -inf, -inf, -inf, -inf, -inf, -inf, -inf, -inf, -inf, -inf, -inf, -inf, -inf, -inf, -inf, -inf, -inf, -inf, -inf, -inf, -inf, -inf, -inf, -inf, -inf, -inf, -inf, -inf, -inf, -inf, -inf, -inf, -inf, -inf, -inf, -inf, -inf, -inf, -inf, -inf, -inf, -inf, -inf, -inf, -inf, -inf, -inf, -inf, -inf, -inf, -inf, -inf, -inf, -inf, -inf, -inf, -inf, -inf, -inf, -inf, -inf, -inf, -inf, -inf, -inf, -inf, -inf, -inf, -inf, -inf, -inf, -inf, -inf, -inf, -inf, -inf, -inf, -inf, -inf, -inf, -inf, -inf, -inf, -inf, -inf, -inf, -inf, -inf, -inf, -inf, -inf, -inf, -inf, -inf, -inf, -inf, -inf, -inf, -inf, -inf, -inf, -inf, -inf, -inf, -inf, -inf, -inf, -inf, -inf, -inf, -inf, -inf, -inf, -inf, -inf, -inf, -inf, -inf, -inf, -inf, -inf, -inf, -inf, -inf, -inf, -inf, -inf, -inf, -inf, -inf, -inf, -inf, -inf, -inf, -inf, -inf, -inf, -inf, -inf, -inf, -inf, -inf, -inf, -inf, -inf, -inf, -inf, -inf, -inf, -inf, -inf, -inf, -inf, -inf, -inf, -inf, -inf, -inf, -inf, -inf, -inf, -inf, -inf, -inf, -inf, -inf, -inf, -inf, -inf, -inf, -inf, -inf, -inf, -inf, -inf, -inf, -inf, -inf, -inf, -inf, -inf, -inf, -inf]]\n"
     ]
    },
    {
     "ename": "NameError",
     "evalue": "name 'backtrack' is not defined",
     "output_type": "error",
     "traceback": [
      "\u001b[0;31m---------------------------------------------------------------------------\u001b[0m",
      "\u001b[0;31mNameError\u001b[0m                                 Traceback (most recent call last)",
      "\u001b[0;32m<ipython-input-360-914031ebe027>\u001b[0m in \u001b[0;36m<module>\u001b[0;34m()\u001b[0m\n\u001b[1;32m      2\u001b[0m \u001b[0mw\u001b[0m \u001b[0;34m=\u001b[0m \u001b[0mcompute_w_log\u001b[0m\u001b[0;34m(\u001b[0m\u001b[0mhmm_7_state\u001b[0m\u001b[0;34m,\u001b[0m \u001b[0mx_long\u001b[0m\u001b[0;34m)\u001b[0m\u001b[0;34m\u001b[0m\u001b[0m\n\u001b[1;32m      3\u001b[0m \u001b[0mprint\u001b[0m\u001b[0;34m(\u001b[0m\u001b[0mw\u001b[0m\u001b[0;34m)\u001b[0m\u001b[0;34m\u001b[0m\u001b[0m\n\u001b[0;32m----> 4\u001b[0;31m \u001b[0mz_vit\u001b[0m \u001b[0;34m=\u001b[0m \u001b[0mbacktrack\u001b[0m\u001b[0;34m(\u001b[0m\u001b[0mhmm_7_state\u001b[0m\u001b[0;34m,\u001b[0m\u001b[0mw\u001b[0m\u001b[0;34m)\u001b[0m\u001b[0;34m\u001b[0m\u001b[0m\n\u001b[0m\u001b[1;32m      5\u001b[0m \u001b[0;31m#z = translate_indices_to_path(z_vit)\u001b[0m\u001b[0;34m\u001b[0m\u001b[0;34m\u001b[0m\u001b[0m\n\u001b[1;32m      6\u001b[0m \u001b[0mprint\u001b[0m\u001b[0;34m(\u001b[0m\u001b[0mz_vit\u001b[0m\u001b[0;34m)\u001b[0m\u001b[0;34m\u001b[0m\u001b[0m\n",
      "\u001b[0;31mNameError\u001b[0m: name 'backtrack' is not defined"
     ]
    }
   ],
   "source": [
    "x_short = 'GTTTCCCAGTGTATATCGAGGGATACTACGTGCATAGTAACATCGGCCAA'\n",
    "w = compute_w_log(hmm_7_state, x_long)\n",
    "print(w)\n",
    "z_vit = backtrack(hmm_7_state,w)\n",
    "#z = translate_indices_to_path(z_vit)\n",
    "print(z_vit)\n",
    "\n",
    "#w_tbc = compute_w_log(hmm_7_state_tbc, x_long)\n",
    "#z_vit_tbc = backtrack_log(w_tbc)\n",
    "\n",
    "# Your comparison of z_vit and z_vit_tbc here ..."
   ]
  },
  {
   "cell_type": "markdown",
   "metadata": {},
   "source": [
    "## Viterbi training"
   ]
  },
  {
   "cell_type": "markdown",
   "metadata": {},
   "source": [
    "Use your implementation of the (log transformed) Viterbi algorithm (`compute_w_log` and `backtrack_log`) from last week, and your implementation of `training_by_counting` above, to implement Viterbi training as explained in class. \n",
    "\n",
    "In the cell below, you should implement a function, `viterbi_update_model`, that given a HMM, `model`, and a sequence of observations, `x`, computes the Viterbi decoding of `x`, `z_vit`, and returns an updated model obtained by doing training by counting on `x` and `z_vit`. I.e. a function that corresponds to one round of Viterbi training."
   ]
  },
  {
   "cell_type": "code",
   "execution_count": 282,
   "metadata": {},
   "outputs": [],
   "source": [
    "def viterbi_update_model(model, x):\n",
    "    \"\"\"\n",
    "    return a new model that corresponds to one round of Viterbi training, \n",
    "    i.e. a model where the parameters reflect training by counting on x \n",
    "    and z_vit, where z_vit is the Viterbi decoding of x under the given \n",
    "    model.\n",
    "    \"\"\"\n",
    "    \n",
    "    # Your code here ...\n",
    "    \n",
    "    return new_model"
   ]
  },
  {
   "cell_type": "markdown",
   "metadata": {},
   "source": [
    "Use your implementation of `viterbi_update_model` to implement Viterbi training, i.e. continue updating the model until it does not change, or until a stopping criteria of your choice is met.\n",
    "\n",
    "Make an experiment where you perform Viterbi training on our example 7-state HMM using `x_long` and starting from the given modem, `hmm_7_state`, as well as a random model. Examine how the parameters evolve during the iterations. How does the obtaining parameters compare to the parameters obtained by training by counting from `x_long` and `z_long` above?"
   ]
  },
  {
   "cell_type": "code",
   "execution_count": 283,
   "metadata": {},
   "outputs": [],
   "source": [
    "# Your code here ..."
   ]
  },
  {
   "cell_type": "markdown",
   "metadata": {},
   "source": [
    "## Baum-Welch training"
   ]
  },
  {
   "cell_type": "markdown",
   "metadata": {},
   "source": [
    "If you have time, you can experiment as above but with Baum-Welch (EM) training. This of course requires that you have a working implementation of the forward- and backward-algorithm (with scaling)."
   ]
  },
  {
   "cell_type": "code",
   "execution_count": 284,
   "metadata": {},
   "outputs": [],
   "source": [
    "# Your code here ..."
   ]
  },
  {
   "cell_type": "markdown",
   "metadata": {},
   "source": [
    "# 2 - Using a HMM for Gene Finding\n",
    "\n",
    "Below we will investigate how to use a hidden Markov model for gene finding in prokaryotes.\n",
    "\n",
    "You are give a data set containing 2 Staphylococcus genomes, each containing several genes (i.e. substrings) obeying the \"gene syntax\" explained in class. The genomes are between 1.8 million and 2.8 million nucleotides.\n",
    "\n",
    "The genomes and their annontations are given in [FASTA format](https://en.wikipedia.org/wiki/FASTA_format)."
   ]
  },
  {
   "cell_type": "code",
   "execution_count": 332,
   "metadata": {},
   "outputs": [],
   "source": [
    "def read_fasta_file(filename):\n",
    "    \"\"\"\n",
    "    Reads the given FASTA file f and returns a dictionary of sequences.\n",
    "\n",
    "    Lines starting with ';' in the FASTA file are ignored.\n",
    "    \"\"\"\n",
    "    sequences_lines = {}\n",
    "    current_sequence_lines = None\n",
    "    with open(filename) as fp:\n",
    "        for line in fp:\n",
    "            line = line.strip()\n",
    "            if line.startswith(';') or not line:\n",
    "                continue\n",
    "            if line.startswith('>'):\n",
    "                sequence_name = line.lstrip('>')\n",
    "                current_sequence_lines = []\n",
    "                sequences_lines[sequence_name] = current_sequence_lines\n",
    "            else:\n",
    "                if current_sequence_lines is not None:\n",
    "                    current_sequence_lines.append(line)\n",
    "    sequences = {}\n",
    "    for name, lines in sequences_lines.items():\n",
    "        sequences[name] = ''.join(lines)\n",
    "    return sequences\n",
    "\n",
    "def count_transitions_and_emissions(K, D, x, z):\n",
    "    \"\"\"\n",
    "    Returns a Kx1, KxK matrix and a KxD matrix containing counts cf. above\n",
    "    \"\"\"    \n",
    "    print(\"Started counting transitions and emissions\")\n",
    "    trans_matrix = [ [ 0 for i in range(K) ] for j in range(K) ]\n",
    "    emi_matrix = [ [ 0 for i in range(D) ] for j in range(K) ]   \n",
    "    \n",
    "    occurrences_state = [0 for i in range(K)]\n",
    "    occurrences_x = [0 for i in range(D)]\n",
    "    print(\"Started counting transitions\")\n",
    "    for i in range(len(z)-1):\n",
    "        trans_matrix[z[i]][z[i+1]] += 1 \n",
    "        occurrences_state[z[i]] += 1\n",
    "       \n",
    "    for i in range(K):\n",
    "        for j in range(K):\n",
    "            trans_matrix[i][j] /= occurrences_state[j]\n",
    "        #Divide by number of occurences in state k\n",
    "        \n",
    "    print(\"Started counting emissions\")\n",
    "    size_z = len(z)\n",
    "    size_x = len(x)\n",
    "    \n",
    "    for i in range(size_z): #K\n",
    "        for j in range(size_x): #D\n",
    "            emi_matrix[z[i]][x[j]] +=1\n",
    "            occurrences_x[x[j]]+=1\n",
    "    \n",
    "    #for z_i,x_i in enumerate(zip(z,x)):\n",
    "    #    emi_matrix[z[z_i]][x[x_i]] += 1\n",
    "    #    occurrences_x[x[x_i]]+=1\n",
    "\n",
    "    print(occurrences_x)\n",
    "    for i in range(K):\n",
    "        for j in range(D):\n",
    "            emi_matrix[i][j] /= occurrences_x[j]\n",
    "                \n",
    "    return trans_matrix,emi_matrix\n",
    "\n",
    "    \n",
    "def training_by_counting(K, D, x, z):\n",
    "    \"\"\"\n",
    "    Returns a HMM trained on x and z cf. training-by-counting.\n",
    "    \"\"\"\n",
    "    print(\"Started training by counting\")\n",
    "    #init_probs = [0.00, 0.00, 0.00, 1.00, 0.00, 0.00, 0.00\n",
    "    z_indices = translate_path_to_indices(z)\n",
    "    x_indices = translate_observations_to_indices(x)\n",
    "    \n",
    "    init_probs = [ 0 for i in range(K) ]\n",
    "    num_sequences = len(z_indices)/3\n",
    "    \n",
    "    for i in range(0,len(z_indices),3):\n",
    "        init_probs[z_indices[i]] += 1\n",
    "            \n",
    "    for j in range(K):\n",
    "        init_probs[j] = init_probs[j] / num_sequences\n",
    "    \n",
    "    trans, emi = count_transitions_and_emissions(K,D,x_indices,z_indices)\n",
    "    \n",
    "    my_hmm = hmm(init_probs,trans,emi)\n",
    "    return my_hmm"
   ]
  },
  {
   "cell_type": "markdown",
   "metadata": {},
   "source": [
    "You can use the function like this (note that reading the entire genome will take some time):"
   ]
  },
  {
   "cell_type": "code",
   "execution_count": 333,
   "metadata": {},
   "outputs": [
    {
     "name": "stdout",
     "output_type": "stream",
     "text": [
      "Started training by counting\n",
      "Started counting transitions and emissions\n",
      "Started counting transitions\n",
      "Started counting emissions\n"
     ]
    },
    {
     "ename": "KeyboardInterrupt",
     "evalue": "",
     "output_type": "error",
     "traceback": [
      "\u001b[0;31m---------------------------------------------------------------------------\u001b[0m",
      "\u001b[0;31mKeyboardInterrupt\u001b[0m                         Traceback (most recent call last)",
      "\u001b[0;32m<ipython-input-333-32805f622d24>\u001b[0m in \u001b[0;36m<module>\u001b[0;34m()\u001b[0m\n\u001b[1;32m      8\u001b[0m \u001b[0;34m\u001b[0m\u001b[0m\n\u001b[1;32m      9\u001b[0m \u001b[0;31m#count_transitions_and_emissions(K,D,x1,z1)\u001b[0m\u001b[0;34m\u001b[0m\u001b[0;34m\u001b[0m\u001b[0m\n\u001b[0;32m---> 10\u001b[0;31m \u001b[0mhmm\u001b[0m \u001b[0;34m=\u001b[0m \u001b[0mtraining_by_counting\u001b[0m\u001b[0;34m(\u001b[0m\u001b[0mK\u001b[0m\u001b[0;34m,\u001b[0m\u001b[0mD\u001b[0m\u001b[0;34m,\u001b[0m\u001b[0mx1\u001b[0m\u001b[0;34m,\u001b[0m\u001b[0mz1\u001b[0m\u001b[0;34m)\u001b[0m\u001b[0;34m\u001b[0m\u001b[0m\n\u001b[0m\u001b[1;32m     11\u001b[0m \u001b[0mprint\u001b[0m\u001b[0;34m(\u001b[0m\u001b[0mhmm\u001b[0m\u001b[0;34m.\u001b[0m\u001b[0minit_probs\u001b[0m\u001b[0;34m)\u001b[0m\u001b[0;34m\u001b[0m\u001b[0m\n",
      "\u001b[0;32m<ipython-input-332-d038737dfe21>\u001b[0m in \u001b[0;36mtraining_by_counting\u001b[0;34m(K, D, x, z)\u001b[0m\n\u001b[1;32m     83\u001b[0m         \u001b[0minit_probs\u001b[0m\u001b[0;34m[\u001b[0m\u001b[0mj\u001b[0m\u001b[0;34m]\u001b[0m \u001b[0;34m=\u001b[0m \u001b[0minit_probs\u001b[0m\u001b[0;34m[\u001b[0m\u001b[0mj\u001b[0m\u001b[0;34m]\u001b[0m \u001b[0;34m/\u001b[0m \u001b[0mnum_sequences\u001b[0m\u001b[0;34m\u001b[0m\u001b[0m\n\u001b[1;32m     84\u001b[0m \u001b[0;34m\u001b[0m\u001b[0m\n\u001b[0;32m---> 85\u001b[0;31m     \u001b[0mtrans\u001b[0m\u001b[0;34m,\u001b[0m \u001b[0memi\u001b[0m \u001b[0;34m=\u001b[0m \u001b[0mcount_transitions_and_emissions\u001b[0m\u001b[0;34m(\u001b[0m\u001b[0mK\u001b[0m\u001b[0;34m,\u001b[0m\u001b[0mD\u001b[0m\u001b[0;34m,\u001b[0m\u001b[0mx_indices\u001b[0m\u001b[0;34m,\u001b[0m\u001b[0mz_indices\u001b[0m\u001b[0;34m)\u001b[0m\u001b[0;34m\u001b[0m\u001b[0m\n\u001b[0m\u001b[1;32m     86\u001b[0m \u001b[0;34m\u001b[0m\u001b[0m\n\u001b[1;32m     87\u001b[0m     \u001b[0mmy_hmm\u001b[0m \u001b[0;34m=\u001b[0m \u001b[0mhmm\u001b[0m\u001b[0;34m(\u001b[0m\u001b[0minit_probs\u001b[0m\u001b[0;34m,\u001b[0m\u001b[0mtrans\u001b[0m\u001b[0;34m,\u001b[0m\u001b[0memi\u001b[0m\u001b[0;34m)\u001b[0m\u001b[0;34m\u001b[0m\u001b[0m\n",
      "\u001b[0;32m<ipython-input-332-d038737dfe21>\u001b[0m in \u001b[0;36mcount_transitions_and_emissions\u001b[0;34m(K, D, x, z)\u001b[0m\n\u001b[1;32m     51\u001b[0m         \u001b[0;32mfor\u001b[0m \u001b[0mj\u001b[0m \u001b[0;32min\u001b[0m \u001b[0mrange\u001b[0m\u001b[0;34m(\u001b[0m\u001b[0msize_x\u001b[0m\u001b[0;34m)\u001b[0m\u001b[0;34m:\u001b[0m \u001b[0;31m#D\u001b[0m\u001b[0;34m\u001b[0m\u001b[0m\n\u001b[1;32m     52\u001b[0m             \u001b[0memi_matrix\u001b[0m\u001b[0;34m[\u001b[0m\u001b[0mz\u001b[0m\u001b[0;34m[\u001b[0m\u001b[0mi\u001b[0m\u001b[0;34m]\u001b[0m\u001b[0;34m]\u001b[0m\u001b[0;34m[\u001b[0m\u001b[0mx\u001b[0m\u001b[0;34m[\u001b[0m\u001b[0mj\u001b[0m\u001b[0;34m]\u001b[0m\u001b[0;34m]\u001b[0m \u001b[0;34m+=\u001b[0m\u001b[0;36m1\u001b[0m\u001b[0;34m\u001b[0m\u001b[0m\n\u001b[0;32m---> 53\u001b[0;31m             \u001b[0moccurrences_x\u001b[0m\u001b[0;34m[\u001b[0m\u001b[0mx\u001b[0m\u001b[0;34m[\u001b[0m\u001b[0mj\u001b[0m\u001b[0;34m]\u001b[0m\u001b[0;34m]\u001b[0m\u001b[0;34m+=\u001b[0m\u001b[0;36m1\u001b[0m\u001b[0;34m\u001b[0m\u001b[0m\n\u001b[0m\u001b[1;32m     54\u001b[0m \u001b[0;34m\u001b[0m\u001b[0m\n\u001b[1;32m     55\u001b[0m     \u001b[0;31m#for z_i,x_i in enumerate(zip(z,x)):\u001b[0m\u001b[0;34m\u001b[0m\u001b[0;34m\u001b[0m\u001b[0m\n",
      "\u001b[0;31mKeyboardInterrupt\u001b[0m: "
     ]
    }
   ],
   "source": [
    "K = 7\n",
    "D = 4\n",
    "g1 = read_fasta_file('/Users/alexiaborchgrevink/Desktop/AU_MachineLearning/Theoretical Excercises/au_ml18/handin3/Handin3_Class1_14/data-handin3/genome1.fa')\n",
    "x1 = g1['genome1']\n",
    "    \n",
    "ann1 = read_fasta_file('/Users/alexiaborchgrevink/Desktop/AU_MachineLearning/Theoretical Excercises/au_ml18/handin3/Handin3_Class1_14/data-handin3/true-ann1.fa')\n",
    "z1 = ann1['true-ann1']\n",
    "    \n",
    "#count_transitions_and_emissions(K,D,x1,z1)\n",
    "hmm = training_by_counting(K,D,x1,z1)\n",
    "print(hmm.init_probs)"
   ]
  },
  {
   "cell_type": "markdown",
   "metadata": {},
   "source": [
    "The data is:\n",
    "\n",
    "* The files [genome1.fa](https://users-cs.au.dk/cstorm/courses/ML_e18/projects/handin3/genome1.fa) and  [genome2.fa](https://users-cs.au.dk/cstorm/courses/ML_e18/projects/handin3/genome2.fa) contain the 2 genomes.\n",
    "* The files [true-ann1.fa](https://users-cs.au.dk/cstorm/courses/ML_e18/projects/handin3/true-ann1.fa) and [true-ann2.fa](https://users-cs.au.dk/cstorm/courses/ML_e18/projects/handin3/true-ann2.fa) contain the annotation of the two genomes with the tru gene structure. The annotation is given in FASTA format as a sequence over the symbols `N`, `C`, and `R`. The symbol `N`, `C`, or `R` at position $i$ in `true-annk.fa` gives the \"state\" of the nucleotide at position $i$ in `genomek.fa`. `N` means that the nucleotide is non-coding. `C` means that the nucleotide is coding and part of a gene in the direction from left to right. `R` means that the nucleotide is coding and part of gene in the reverse direction from right to left.\n",
    "\n",
    "The annotation files can also be read with `read_fasta_file`.\n",
    "\n",
    "You are given the same 7-state HMM that you used above and similar helper functions:"
   ]
  },
  {
   "cell_type": "code",
   "execution_count": 288,
   "metadata": {},
   "outputs": [],
   "source": [
    "class hmm:\n",
    "    def __init__(self, init_probs, trans_probs, emission_probs):\n",
    "        self.init_probs = init_probs\n",
    "        self.trans_probs = trans_probs\n",
    "        self.emission_probs = emission_probs"
   ]
  },
  {
   "cell_type": "code",
   "execution_count": 289,
   "metadata": {},
   "outputs": [],
   "source": [
    "init_probs_7_state = [0.00, 0.00, 0.00, 1.00, 0.00, 0.00, 0.00]\n",
    "\n",
    "trans_probs_7_state = [\n",
    "    [0.00, 0.00, 0.90, 0.10, 0.00, 0.00, 0.00],\n",
    "    [1.00, 0.00, 0.00, 0.00, 0.00, 0.00, 0.00],\n",
    "    [0.00, 1.00, 0.00, 0.00, 0.00, 0.00, 0.00],\n",
    "    [0.00, 0.00, 0.05, 0.90, 0.05, 0.00, 0.00],\n",
    "    [0.00, 0.00, 0.00, 0.00, 0.00, 1.00, 0.00],\n",
    "    [0.00, 0.00, 0.00, 0.00, 0.00, 0.00, 1.00],\n",
    "    [0.00, 0.00, 0.00, 0.10, 0.90, 0.00, 0.00],\n",
    "]\n",
    "\n",
    "emission_probs_7_state = [\n",
    "    #   A     C     G     T\n",
    "    [0.30, 0.25, 0.25, 0.20],\n",
    "    [0.20, 0.35, 0.15, 0.30],\n",
    "    [0.40, 0.15, 0.20, 0.25],\n",
    "    [0.25, 0.25, 0.25, 0.25],\n",
    "    [0.20, 0.40, 0.30, 0.10],\n",
    "    [0.30, 0.20, 0.30, 0.20],\n",
    "    [0.15, 0.30, 0.20, 0.35],\n",
    "]\n",
    "\n",
    "hmm_7_state = hmm(init_probs_7_state, trans_probs_7_state, emission_probs_7_state)"
   ]
  },
  {
   "cell_type": "markdown",
   "metadata": {},
   "source": [
    "Notice that this time the function `translate_indices_to_path` is a bit different. In the given model the states 0, 1, 2 represent coding (C), state 3 represents non-coding (N) and states 4, 5, 6 represent reverse-coding (R) as explained in class."
   ]
  },
  {
   "cell_type": "code",
   "execution_count": 290,
   "metadata": {},
   "outputs": [],
   "source": [
    "def translate_indices_to_path(indices):\n",
    "    mapping = ['C', 'C', 'C', 'N', 'R', 'R', 'R']\n",
    "    return ''.join([mapping[i] for i in indices])\n",
    "\n",
    "def translate_observations_to_indices(obs):\n",
    "    mapping = {'a': 0, 'c': 1, 'g': 2, 't': 3}\n",
    "    return [mapping[symbol.lower()] for symbol in obs]\n",
    "\n",
    "def translate_indices_to_observations(indices):\n",
    "    mapping = ['a', 'c', 'g', 't']\n",
    "    return ''.join(mapping[idx] for idx in indices)"
   ]
  },
  {
   "cell_type": "code",
   "execution_count": 291,
   "metadata": {},
   "outputs": [],
   "source": [
    "def make_table(m, n):\n",
    "    \"\"\"Make a table with `m` rows and `n` columns filled with zeros.\"\"\"\n",
    "    return [[0] * n for _ in range(m)]"
   ]
  },
  {
   "cell_type": "markdown",
   "metadata": {},
   "source": [
    "Now insert your Viterbi implementation (log transformed) in the cell below, this means that you should copy `compute_w_log`, `opt_path_prob_log`, `backtrack_log` and any other functions you may have defined yourself for your Viterbi implementation."
   ]
  },
  {
   "cell_type": "code",
   "execution_count": null,
   "metadata": {},
   "outputs": [],
   "source": [
    "# Your Viterbi implementation here...\n",
    "def log(x):\n",
    "    if x == 0:\n",
    "        return float('-inf')\n",
    "    return math.log(x)\n",
    "\n",
    "def compute_w_log(model, x):\n",
    "    K = len(model.init_probs)\n",
    "    N = len(x)\n",
    "\n",
    "    w = make_table(K, N)\n",
    "    x = translate_observations_to_indices(x)\n",
    "\n",
    "    # Base case: fill out w[i][0] for i = 0..k-1\n",
    "    # ...\n",
    "    for k in range(K):\n",
    "        w[k][0] = log(model.init_probs[k]) + log(model.emission_probs[k][x[0]])\n",
    "\n",
    "    # Inductive case: fill out w[i][j] for i = 0..k, j = 0..n-1\n",
    "    # ...\n",
    "    np_w = np.asarray(w)\n",
    "    np_trans = np.asarray(model.trans_probs)\n",
    "    for n in range(N):\n",
    "        for j in range(0,K):\n",
    "            for i in range(0,k): #i\n",
    "                ## take max\n",
    "                w[j][n] = np.argmax(np_w[i][n-1]+log(np_trans[i][j]))\n",
    "\n",
    "        w[j][n] += log(model.emission_probs[j][x[n]])\n",
    "\n",
    "    return w\n",
    "\n",
    "def opt_path_prob_log(w):\n",
    "    return max(w[i][-1] for i in range(len(w)))\n",
    "\n",
    "def backtrack_log(w,model):\n",
    "    N = len(w[0])\n",
    "    print(N)\n",
    "    k = len(w[1])\n",
    "    print(k)\n",
    "    np_w = np.asarray(w)\n",
    "    \n",
    "    z = [None for i in range(N-1)]\n",
    "    z[N-1] = (np.argmax(np_w[i][N]) for i in range(k))\n",
    "    \n",
    "    np_trans = np.asarray(model.trans_probs)\n",
    "    np_emi = np.asarray(model.emission_probs)\n",
    "    \n",
    "    for j in range(N-1,0,-1):\n",
    "        z[j] = np.argmax((log(np_emi[j+1][z[j+1]]) + np_w[i][j] + log(np_trans[z[j+1]][i]) for i in range(k)))\n",
    "        \n",
    "    return list(z)\n"
   ]
  },
  {
   "cell_type": "markdown",
   "metadata": {},
   "source": [
    "## Finding genes in a genome"
   ]
  },
  {
   "cell_type": "markdown",
   "metadata": {},
   "source": [
    "In the cell below, use your Viterbi implementation to compute an annotation for genome 1 and 2. Save the annotation in a variable (remember to translate the indicies to a path using `translate_indices_to_path`). Feel free to define a function that wraps `compute_w_log` and `backtrack_log` so that you don't have to call both functions each time you want an annotation for a sequence."
   ]
  },
  {
   "cell_type": "code",
   "execution_count": 336,
   "metadata": {},
   "outputs": [
    {
     "name": "stdout",
     "output_type": "stream",
     "text": [
      "Started training by counting\n",
      "Started counting transitions and emissions\n",
      "Started counting transitions\n"
     ]
    },
    {
     "ename": "ZeroDivisionError",
     "evalue": "division by zero",
     "output_type": "error",
     "traceback": [
      "\u001b[0;31m---------------------------------------------------------------------------\u001b[0m",
      "\u001b[0;31mZeroDivisionError\u001b[0m                         Traceback (most recent call last)",
      "\u001b[0;32m<ipython-input-336-8c38b4b84098>\u001b[0m in \u001b[0;36m<module>\u001b[0;34m()\u001b[0m\n\u001b[1;32m     13\u001b[0m \u001b[0mz1\u001b[0m \u001b[0;34m=\u001b[0m \u001b[0mann1\u001b[0m\u001b[0;34m[\u001b[0m\u001b[0;34m'true-ann1'\u001b[0m\u001b[0;34m]\u001b[0m\u001b[0;34m\u001b[0m\u001b[0m\n\u001b[1;32m     14\u001b[0m \u001b[0;34m\u001b[0m\u001b[0m\n\u001b[0;32m---> 15\u001b[0;31m \u001b[0mhmm1\u001b[0m \u001b[0;34m=\u001b[0m \u001b[0mtraining_by_counting\u001b[0m\u001b[0;34m(\u001b[0m\u001b[0mK\u001b[0m\u001b[0;34m,\u001b[0m\u001b[0mD\u001b[0m\u001b[0;34m,\u001b[0m\u001b[0mx_long\u001b[0m\u001b[0;34m,\u001b[0m\u001b[0mz_long\u001b[0m\u001b[0;34m)\u001b[0m\u001b[0;34m\u001b[0m\u001b[0m\n\u001b[0m\u001b[1;32m     16\u001b[0m \u001b[0mprint\u001b[0m\u001b[0;34m(\u001b[0m\u001b[0mhmm1\u001b[0m\u001b[0;34m.\u001b[0m\u001b[0minit_probs\u001b[0m\u001b[0;34m)\u001b[0m\u001b[0;34m\u001b[0m\u001b[0m\n\u001b[1;32m     17\u001b[0m \u001b[0mprint\u001b[0m\u001b[0;34m(\u001b[0m\u001b[0mhmm1\u001b[0m\u001b[0;34m.\u001b[0m\u001b[0mtrans_probs\u001b[0m\u001b[0;34m)\u001b[0m\u001b[0;34m\u001b[0m\u001b[0m\n",
      "\u001b[0;32m<ipython-input-332-d038737dfe21>\u001b[0m in \u001b[0;36mtraining_by_counting\u001b[0;34m(K, D, x, z)\u001b[0m\n\u001b[1;32m     83\u001b[0m         \u001b[0minit_probs\u001b[0m\u001b[0;34m[\u001b[0m\u001b[0mj\u001b[0m\u001b[0;34m]\u001b[0m \u001b[0;34m=\u001b[0m \u001b[0minit_probs\u001b[0m\u001b[0;34m[\u001b[0m\u001b[0mj\u001b[0m\u001b[0;34m]\u001b[0m \u001b[0;34m/\u001b[0m \u001b[0mnum_sequences\u001b[0m\u001b[0;34m\u001b[0m\u001b[0m\n\u001b[1;32m     84\u001b[0m \u001b[0;34m\u001b[0m\u001b[0m\n\u001b[0;32m---> 85\u001b[0;31m     \u001b[0mtrans\u001b[0m\u001b[0;34m,\u001b[0m \u001b[0memi\u001b[0m \u001b[0;34m=\u001b[0m \u001b[0mcount_transitions_and_emissions\u001b[0m\u001b[0;34m(\u001b[0m\u001b[0mK\u001b[0m\u001b[0;34m,\u001b[0m\u001b[0mD\u001b[0m\u001b[0;34m,\u001b[0m\u001b[0mx_indices\u001b[0m\u001b[0;34m,\u001b[0m\u001b[0mz_indices\u001b[0m\u001b[0;34m)\u001b[0m\u001b[0;34m\u001b[0m\u001b[0m\n\u001b[0m\u001b[1;32m     86\u001b[0m \u001b[0;34m\u001b[0m\u001b[0m\n\u001b[1;32m     87\u001b[0m     \u001b[0mmy_hmm\u001b[0m \u001b[0;34m=\u001b[0m \u001b[0mhmm\u001b[0m\u001b[0;34m(\u001b[0m\u001b[0minit_probs\u001b[0m\u001b[0;34m,\u001b[0m\u001b[0mtrans\u001b[0m\u001b[0;34m,\u001b[0m\u001b[0memi\u001b[0m\u001b[0;34m)\u001b[0m\u001b[0;34m\u001b[0m\u001b[0m\n",
      "\u001b[0;32m<ipython-input-335-51fa5218643e>\u001b[0m in \u001b[0;36mcount_transitions_and_emissions\u001b[0;34m(K, D, x, z)\u001b[0m\n\u001b[1;32m     16\u001b[0m     \u001b[0;32mfor\u001b[0m \u001b[0mi\u001b[0m \u001b[0;32min\u001b[0m \u001b[0mrange\u001b[0m\u001b[0;34m(\u001b[0m\u001b[0mK\u001b[0m\u001b[0;34m)\u001b[0m\u001b[0;34m:\u001b[0m\u001b[0;34m\u001b[0m\u001b[0m\n\u001b[1;32m     17\u001b[0m         \u001b[0;32mfor\u001b[0m \u001b[0mj\u001b[0m \u001b[0;32min\u001b[0m \u001b[0mrange\u001b[0m\u001b[0;34m(\u001b[0m\u001b[0mK\u001b[0m\u001b[0;34m)\u001b[0m\u001b[0;34m:\u001b[0m\u001b[0;34m\u001b[0m\u001b[0m\n\u001b[0;32m---> 18\u001b[0;31m             \u001b[0mtrans_matrix\u001b[0m\u001b[0;34m[\u001b[0m\u001b[0mi\u001b[0m\u001b[0;34m]\u001b[0m\u001b[0;34m[\u001b[0m\u001b[0mj\u001b[0m\u001b[0;34m]\u001b[0m \u001b[0;34m/=\u001b[0m \u001b[0moccurrences_state\u001b[0m\u001b[0;34m[\u001b[0m\u001b[0mj\u001b[0m\u001b[0;34m]\u001b[0m\u001b[0;34m\u001b[0m\u001b[0m\n\u001b[0m\u001b[1;32m     19\u001b[0m         \u001b[0;31m#Divide by number of occurences in state k\u001b[0m\u001b[0;34m\u001b[0m\u001b[0;34m\u001b[0m\u001b[0m\n\u001b[1;32m     20\u001b[0m \u001b[0;34m\u001b[0m\u001b[0m\n",
      "\u001b[0;31mZeroDivisionError\u001b[0m: division by zero"
     ]
    }
   ],
   "source": [
    "# Your code here...\n",
    "x_long = 'TGAGTATCACTTAGGTCTATGTCTAGTCGTCTTTCGTAATGTTTGGTCTTGTCACCAGTTATCCTATGGCGCTCCGAGTCTGGTTCTCGAAATAAGCATCCCCGCCCAAGTCATGCACCCGTTTGTGTTCTTCGCCGACTTGAGCGACTTAATGAGGATGCCACTCGTCACCATCTTGAACATGCCACCAACGAGGTTGCCGCCGTCCATTATAACTACAACCTAGACAATTTTCGCTTTAGGTCCATTCACTAGGCCGAAATCCGCTGGAGTAAGCACAAAGCTCGTATAGGCAAAACCGACTCCATGAGTCTGCCTCCCGACCATTCCCATCAAAATACGCTATCAATACTAAAAAAATGACGGTTCAGCCTCACCCGGATGCTCGAGACAGCACACGGACATGATAGCGAACGTGACCAGTGTAGTGGCCCAGGGGAACCGCCGCGCCATTTTGTTCATGGCCCCGCTGCCGAATATTTCGATCCCAGCTAGAGTAATGACCTGTAGCTTAAACCCACTTTTGGCCCAAACTAGAGCAACAATCGGAATGGCTGAAGTGAATGCCGGCATGCCCTCAGCTCTAAGCGCCTCGATCGCAGTAATGACCGTCTTAACATTAGCTCTCAACGCTATGCAGTGGCTTTGGTGTCGCTTACTACCAGTTCCGAACGTCTCGGGGGTCTTGATGCAGCGCACCACGATGCCAAGCCACGCTGAATCGGGCAGCCAGCAGGATCGTTACAGTCGAGCCCACGGCAATGCGAGCCGTCACGTTGCCGAATATGCACTGCGGGACTACGGACGCAGGGCCGCCAACCATCTGGTTGACGATAGCCAAACACGGTCCAGAGGTGCCCCATCTCGGTTATTTGGATCGTAATTTTTGTGAAGAACACTGCAAACGCAAGTGGCTTTCCAGACTTTACGACTATGTGCCATCATTTAAGGCTACGACCCGGCTTTTAAGACCCCCACCACTAAATAGAGGTACATCTGA'\n",
    "z_long = '3333321021021021021021021021021021021021021021021021021021021021021021033333333334564564564564564564564564564564564564564564564564564564564564564564564564564564564564564564564564564564564564564564564564564564563210210210210210210210210210210210210210210210210210210210210210210210210210210210210210210210210210210210210210210210210210210210321021021021021021021021033334564564564564564564564564564564564564564564564564564564564564564564564564564564564564564564564564564564564564564564564564564564564564564564564564564564564564564564564564564564564564564564564564564564564564564564564564564564564564564564564564564564564564564564564564564564564564564564564564564564564564564564564564564564564564564564564564564564564563333333456456456456456456456456456456456456456456456456456456456456456456456456456456456456456456456456456456456456456456332102102102102102102102102102102102102102102102102102102102102102102102102102102102102102102102103210210210210210210210210210210210210210210210210210210210210210'\n",
    "x_short = 'GTTTCCCAGTGTATATCGAGGGATACTACGTGCATAGTAACATCGGCCAA'\n",
    "z_short = '33333333333321021021021021021021021021021021021021'\n",
    "\n",
    "K = 7\n",
    "D = 4\n",
    "g1 = read_fasta_file('/Users/alexiaborchgrevink/Desktop/AU_MachineLearning/Theoretical Excercises/au_ml18/handin3/Handin3_Class1_14/data-handin3/genome1.fa')\n",
    "x1 = g1['genome1']\n",
    "\n",
    "ann1 = read_fasta_file('/Users/alexiaborchgrevink/Desktop/AU_MachineLearning/Theoretical Excercises/au_ml18/handin3/Handin3_Class1_14/data-handin3/true-ann1.fa')\n",
    "z1 = ann1['true-ann1']\n",
    "    \n",
    "hmm1 = training_by_counting(K,D,x_long,z_long)\n",
    "print(hmm1.init_probs)\n",
    "print(hmm1.trans_probs)\n",
    "print(hmm1.emission_probs)\n",
    "w1 = compute_w_log(hmm1,x1)\n",
    "z1 = backtrack_log(w1,hmm1)\n",
    "print(z1)\n",
    "\n",
    "#pred_ann1 = translate_indices_to_path(z1)\n",
    "\n",
    "\n",
    "\n",
    "\n"
   ]
  },
  {
   "cell_type": "markdown",
   "metadata": {},
   "source": [
    "## Comparing annotations"
   ]
  },
  {
   "cell_type": "markdown",
   "metadata": {},
   "source": [
    "We will now compare the predicted annotations to the true annotations. Read the true annotations (`true-ann1.fa` and `true-ann2.fa`) and use the `compute_accuracy` function given below to compare the predicted annotation to the true annotation."
   ]
  },
  {
   "cell_type": "code",
   "execution_count": 242,
   "metadata": {},
   "outputs": [],
   "source": [
    "def compute_accuracy(true_ann, pred_ann):\n",
    "    if len(true_ann) != len(pred_ann):\n",
    "        return 0.0\n",
    "    return sum(1 if true_ann[i] == pred_ann[i] else 0 \n",
    "               for i in range(len(true_ann))) / len(true_ann)"
   ]
  },
  {
   "cell_type": "code",
   "execution_count": 243,
   "metadata": {},
   "outputs": [],
   "source": [
    "# Your code to read the annotations and compute the accuracies of your predictions..."
   ]
  },
  {
   "cell_type": "markdown",
   "metadata": {},
   "source": [
    "## Training a model"
   ]
  },
  {
   "cell_type": "markdown",
   "metadata": {},
   "source": [
    "Above, we used the stock `hmm_7_state` for prediction. In a real application, one would train the HMM on genomes with known gene structure in order to make a model that reflects reality. \n",
    "\n",
    "Make a HMM `hmm_7_state_genome1` that has a transition diagram similar to `hmm_7_state`, but where the transition, emission, and initial probabilities are set by training by counting on `genome1.fa` and its corresponding true gene structure as given in `true-ann1.fa`.\n",
    "\n",
    "You should be able to use your implementation of training by counting as done above, but you must translate the annotation in `annotation1.fa` into a proper sequence of hidden states, i.e. the annotation `NCCCNRRRN` would correspond to `321034563`.\n",
    "\n",
    "Using the trained HMM `hmm_7_state_genome1` to predict the gene structure of genome 2, and compare the predicted annotation to true annotation (`true-ann2.fa`). Is the accurracy better than your prediction on genome 2 using `hmm_7_state`?\n",
    "\n",
    "Implement training by counting in the cell below. We'll use it to train a new model for predicting genes. Feel free to define any helper functions you find useful."
   ]
  },
  {
   "cell_type": "code",
   "execution_count": 402,
   "metadata": {},
   "outputs": [
    {
     "name": "stdout",
     "output_type": "stream",
     "text": [
      "Started counting transitions and emissions\n",
      "Started counting transitions\n",
      "Started counting emissions\n",
      "Generated model\n",
      "Highest probability=  -65.1956249718952\n",
      "[3, 3, 3, 3, 3, 3, 3, 3, 3, 3, 3, 3, 2, 1, 0, 2, 1, 0, 2, 1, 0, 2, 1, 0, 2, 1, 0, 2, 1, 0, 2, 1, 0, 2, 1, 0, 2, 1, 0, 2, 1, 0, 2, 1, 0, 2, 1, 0, 2, 1]\n",
      "50\n",
      "50\n",
      "NNNNNNNNNNNNCCCCCCCCCCCCCCCCCCCCCCCCCCCCCCCCCCCCCC\n"
     ]
    }
   ],
   "source": [
    "def count_transitions_and_emissions(K, D, x, z):\n",
    "    \"\"\"\n",
    "    Returns a Kx1, KxK matrix and a KxD matrix containing counts cf. above\n",
    "    \"\"\"    \n",
    "    print(\"Started counting transitions and emissions\")\n",
    "    trans_matrix = [ [ 0 for i in range(K) ] for j in range(K) ]\n",
    "    emi_matrix = [ [ 0 for i in range(D) ] for j in range(K) ]   \n",
    "    \n",
    "    occurrences_state = [0 for i in range(K)]\n",
    "    occurrences_x = [0 for i in range(D)]\n",
    "    print(\"Started counting transitions\")\n",
    "    for i in range(len(z)-1):\n",
    "        trans_matrix[z[i]][z[i+1]] += 1 \n",
    "        \n",
    "    print(\"Started counting emissions\")\n",
    "    size_z = len(z)\n",
    "    size_x = len(x)\n",
    "    \n",
    "    for i in range(size_x): #K\n",
    "        emi_matrix[z[i]][x[i]] +=1\n",
    "            \n",
    "    return trans_matrix,emi_matrix\n",
    "\n",
    "def training_by_counting(K, D, x, z):\n",
    "    \"\"\"\n",
    "    Returns a HMM trained on x and z cf. training-by-counting.\n",
    "    \"\"\"\n",
    "    z_indices = translate_path_to_indices1(z)\n",
    "    x_indices = translate_observations_to_indices(x)\n",
    "    \n",
    "    init_probs = [ 0 for i in range(K) ]\n",
    "    num_sequences = len(z_indices)/3\n",
    "    \n",
    "    for i in range(0,len(z_indices),3):\n",
    "        init_probs[z_indices[i]] += 1\n",
    "            \n",
    "    for j in range(K):\n",
    "        init_probs[j] = init_probs[j] / num_sequences\n",
    "    \n",
    "    trans, emi = count_transitions_and_emissions(K,D,x_indices,z_indices)\n",
    "    \n",
    "    #Calculate probabilities\n",
    "    occurrences_state = [0 for i in range(K)]\n",
    "    occurrences_x = [0 for i in range(D)]\n",
    "    for i in range(len(z_indices)):\n",
    "        occurrences_state[z_indices[i]] +=1\n",
    "    \n",
    "    for i in range(len(x_indices)):\n",
    "        occurrences_x[x_indices[i]] += 1\n",
    "    \n",
    "    for i in range(K):\n",
    "        for j in range(K):\n",
    "            trans[i][j] /= occurrences_state[j]\n",
    "    \n",
    "    for i in range(K):\n",
    "        for j in range(D):\n",
    "            emi[i][j] /= occurrences_x[j]\n",
    "    \n",
    "    my_hmm = hmm(init_probs,trans,emi)\n",
    "    return my_hmm\n",
    "\n",
    "def viterbi(x, z, model):\n",
    "    w = [{}]\n",
    "    for st in z:\n",
    "        w[0][st] = {\"prob\": model.init_probs[st] + log(model.emission_probs[st][x[0]]), \"prev\": None}\n",
    "    # Run Viterbi when t > 0\n",
    "    \n",
    "    for t in range(1, len(x)):\n",
    "        w.append({})\n",
    "        for st in z:\n",
    "            max_trans_prob = w[t-1][z[0]][\"prob\"]+ log(model.trans_probs[z[0]][st])\n",
    "            previous_state = z[0]\n",
    "            for prev_st in z[1:]:\n",
    "                trans_prob = w[t-1][prev_st][\"prob\"] + log(model.trans_probs[prev_st][st])\n",
    "                if trans_prob > max_trans_prob:\n",
    "                    max_trans_prob = trans_prob\n",
    "                    previous_state = prev_st\n",
    "                    \n",
    "            max_prob = max_trans_prob + log(model.emission_probs[st][x[t]])\n",
    "            w[t][st] = {\"prob\": max_prob, \"prev\": previous_state}\n",
    "                    \n",
    "    optimal_path = []\n",
    "    # The highest probability\n",
    "    max_prob = max(value[\"prob\"] for value in w[-1].values())\n",
    "    previous = None\n",
    "    # Get most probable state and its backtrack\n",
    "    for state, value in w[-1].items():\n",
    "        if value[\"prob\"] == max_prob:\n",
    "            optimal_path.append(state)\n",
    "            previous = state\n",
    "            break\n",
    "    # Follow the backtrack till the first observation\n",
    "    for t in range(len(w) - 2, -1, -1):\n",
    "        optimal_path.insert(0, w[t + 1][previous][\"prev\"])\n",
    "        previous = w[t + 1][previous][\"prev\"]\n",
    "    \n",
    "    #ann = translate_indices_to_path(optimal_path)\n",
    "    print(\"Highest probability= \",max_prob)\n",
    "    return optimal_path\n",
    "\n",
    "\n",
    "        \n",
    "x_long = 'TGAGTATCACTTAGGTCTATGTCTAGTCGTCTTTCGTAATGTTTGGTCTTGTCACCAGTTATCCTATGGCGCTCCGAGTCTGGTTCTCGAAATAAGCATCCCCGCCCAAGTCATGCACCCGTTTGTGTTCTTCGCCGACTTGAGCGACTTAATGAGGATGCCACTCGTCACCATCTTGAACATGCCACCAACGAGGTTGCCGCCGTCCATTATAACTACAACCTAGACAATTTTCGCTTTAGGTCCATTCACTAGGCCGAAATCCGCTGGAGTAAGCACAAAGCTCGTATAGGCAAAACCGACTCCATGAGTCTGCCTCCCGACCATTCCCATCAAAATACGCTATCAATACTAAAAAAATGACGGTTCAGCCTCACCCGGATGCTCGAGACAGCACACGGACATGATAGCGAACGTGACCAGTGTAGTGGCCCAGGGGAACCGCCGCGCCATTTTGTTCATGGCCCCGCTGCCGAATATTTCGATCCCAGCTAGAGTAATGACCTGTAGCTTAAACCCACTTTTGGCCCAAACTAGAGCAACAATCGGAATGGCTGAAGTGAATGCCGGCATGCCCTCAGCTCTAAGCGCCTCGATCGCAGTAATGACCGTCTTAACATTAGCTCTCAACGCTATGCAGTGGCTTTGGTGTCGCTTACTACCAGTTCCGAACGTCTCGGGGGTCTTGATGCAGCGCACCACGATGCCAAGCCACGCTGAATCGGGCAGCCAGCAGGATCGTTACAGTCGAGCCCACGGCAATGCGAGCCGTCACGTTGCCGAATATGCACTGCGGGACTACGGACGCAGGGCCGCCAACCATCTGGTTGACGATAGCCAAACACGGTCCAGAGGTGCCCCATCTCGGTTATTTGGATCGTAATTTTTGTGAAGAACACTGCAAACGCAAGTGGCTTTCCAGACTTTACGACTATGTGCCATCATTTAAGGCTACGACCCGGCTTTTAAGACCCCCACCACTAAATAGAGGTACATCTGA'\n",
    "z_long = '3333321021021021021021021021021021021021021021021021021021021021021021033333333334564564564564564564564564564564564564564564564564564564564564564564564564564564564564564564564564564564564564564564564564564564563210210210210210210210210210210210210210210210210210210210210210210210210210210210210210210210210210210210210210210210210210210210321021021021021021021021033334564564564564564564564564564564564564564564564564564564564564564564564564564564564564564564564564564564564564564564564564564564564564564564564564564564564564564564564564564564564564564564564564564564564564564564564564564564564564564564564564564564564564564564564564564564564564564564564564564564564564564564564564564564564564564564564564564564564563333333456456456456456456456456456456456456456456456456456456456456456456456456456456456456456456456456456456456456456456332102102102102102102102102102102102102102102102102102102102102102102102102102102102102102102102103210210210210210210210210210210210210210210210210210210210210210'\n",
    "x_short = 'GTTTCCCAGTGTATATCGAGGGATACTACGTGCATAGTAACATCGGCCAA'\n",
    "z_short = '33333333333321021021021021021021021021021021021021'\n",
    "\n",
    "K = 7\n",
    "D = 4\n",
    "\n",
    "hmm1 = training_by_counting(K,D,x_long,z_long)\n",
    "print(\"Generated model\")\n",
    "z_indices = translate_path_to_indices1(z_long)\n",
    "x_indices = translate_observations_to_indices(x_long)\n",
    "    \n",
    "optimal = viterbi(x_indices,z_indices,hmm1)\n",
    "print(\"Optimal path = \",optimal)\n",
    "print(len(optimal))\n",
    "print(len(z_indices))\n",
    "ann = translate_indices_to_path(optimal)\n",
    "print(ann)\n"
   ]
  },
  {
   "cell_type": "markdown",
   "metadata": {},
   "source": [
    "Redo the above, where you train on genome 2 and predict on genome 1, i.e. make model `hmm_7_state_genome2` using training by counting on `true-ann2.fa`, predict the gene structure of `genome1.fa` and compare your prediction against `true-ann1.fa`."
   ]
  },
  {
   "cell_type": "code",
   "execution_count": null,
   "metadata": {
    "collapsed": true
   },
   "outputs": [],
   "source": [
    "# Your code to get hmm_7_state_genome2 using trainng by counting, predict an annotation of genome1, and compare the prediction to annotation1.fa"
   ]
  },
  {
   "cell_type": "markdown",
   "metadata": {},
   "source": [
    "If you have time you can redo the above for other training methods, e.g. Viterbi training that you also considered above. I.e. train a model `hmm_7_state_genome1_vit` using Viterbi training on `genome1.fa`, and use it to predict a gene structure for genome 2."
   ]
  }
 ],
 "metadata": {
  "kernelspec": {
   "display_name": "Python 3",
   "language": "python",
   "name": "python3"
  },
  "language_info": {
   "codemirror_mode": {
    "name": "ipython",
    "version": 3
   },
   "file_extension": ".py",
   "mimetype": "text/x-python",
   "name": "python",
   "nbconvert_exporter": "python",
   "pygments_lexer": "ipython3",
   "version": "3.6.5"
  }
 },
 "nbformat": 4,
 "nbformat_minor": 1
}
